{
 "cells": [
  {
   "cell_type": "code",
   "execution_count": 4,
   "id": "c4c15c5b",
   "metadata": {},
   "outputs": [],
   "source": [
    "import numpy as np\n",
    "import matplotlib.pyplot as plt\n",
    "import time as tm"
   ]
  },
  {
   "cell_type": "code",
   "execution_count": 5,
   "id": "2bad675c",
   "metadata": {},
   "outputs": [],
   "source": [
    "def merck_euler(population,dt,b,q,m,n,a):\n",
    "    mutation = 1\n",
    "    x,y = population\n",
    "    dy      = np.empty(2)\n",
    "    dy[0] = x + dt*(b*x*(q**(m)*(q**n))-a*x)\n",
    "    dy[1] = y + dt*(mutation*(b*x*(q**m)*(1-q**n)+b*y*(q**m)-a*y))\n",
    "    return(dy)"
   ]
  },
  {
   "cell_type": "code",
   "execution_count": 6,
   "id": "7e41d6c2",
   "metadata": {},
   "outputs": [],
   "source": [
    "def simulation(init,b,a0,a1,q0,q1,m,n,tim,ttr):\n",
    "    \n",
    "    dt = 1e-4\n",
    "    initial = [init[0],init[1]]\n",
    "    population = initial.copy()\n",
    "    pop_evol = []\n",
    "    \n",
    "    current_q = q0\n",
    "    current_a = a0\n",
    "\n",
    "    for ngen in np.arange(150/dt):\n",
    "        if ngen % 10 == 0:\n",
    "            pop_evol.append(population)\n",
    "        \n",
    "        population = merck_euler(population,dt,b,current_q,m,n,current_a)\n",
    "        \n",
    "        # immune system kicks in\n",
    "        if ngen > tim/dt:\n",
    "            current_a = a1\n",
    "            \n",
    "        # Merck treatment starts\n",
    "        if ngen > ttr/dt:\n",
    "            current_q = q1\n",
    "            \n",
    "    pop_evol = np.array(pop_evol)\n",
    "    return(pop_evol)"
   ]
  },
  {
   "cell_type": "code",
   "execution_count": 7,
   "id": "96725b56",
   "metadata": {},
   "outputs": [],
   "source": [
    "a0 = 3\n",
    "q = 1-1e-6\n",
    "q1 = 1-2e-6\n",
    "q2 = 1-1e-5\n",
    "b=7.6\n",
    "T = 5\n",
    "a1=9\n",
    "q0 = 1-1e-6\n",
    "n = 87\n",
    "m=20000\n",
    "init=[1,0]\n",
    "tim, ttr = 5,5"
   ]
  },
  {
   "cell_type": "code",
   "execution_count": 52,
   "id": "9e0e20e8",
   "metadata": {},
   "outputs": [],
   "source": [
    "euler_test = simulation(init,b,a0,a1,q0,q0,m,n,tim,ttr)"
   ]
  },
  {
   "cell_type": "code",
   "execution_count": 53,
   "id": "95da0c8d",
   "metadata": {
    "scrolled": true
   },
   "outputs": [
    {
     "name": "stdout",
     "output_type": "stream",
     "text": [
      "0\n",
      "1\n",
      "2\n",
      "3\n",
      "4\n",
      "5\n",
      "6\n",
      "7\n",
      "8\n",
      "9\n",
      "10\n",
      "11\n",
      "12\n",
      "13\n",
      "14\n",
      "15\n",
      "16\n",
      "17\n",
      "18\n",
      "19\n",
      "20\n",
      "21\n",
      "22\n",
      "23\n",
      "24\n",
      "25\n",
      "26\n",
      "27\n",
      "28\n",
      "29\n",
      "30\n",
      "31\n",
      "32\n",
      "33\n",
      "34\n",
      "35\n",
      "36\n",
      "37\n",
      "38\n",
      "39\n",
      "40\n",
      "41\n",
      "42\n",
      "43\n",
      "44\n",
      "45\n",
      "46\n",
      "47\n",
      "48\n",
      "49\n"
     ]
    }
   ],
   "source": [
    "along_q1 = []\n",
    "\n",
    "for q1 in 1-np.logspace(-6,-2,50):\n",
    "    print(list(1-np.logspace(-6,-2,50)).index(q1))\n",
    "    along_q1.append(simulation(init,b,a0,a1,q0,q1,m,n,tim,ttr))"
   ]
  },
  {
   "cell_type": "code",
   "execution_count": null,
   "id": "b61a22fc",
   "metadata": {},
   "outputs": [],
   "source": [
    "along_q1 = []\n",
    "\n",
    "for q1 in 1-np.logspace(-6,-2,50):\n",
    "    print(list(1-np.logspace(-6,-2,50)).index(q1))\n",
    "    along_q1.append(simulation(init,b,a0,a1,q0,q1,m,n,tim,ttr))"
   ]
  },
  {
   "cell_type": "code",
   "execution_count": 24,
   "id": "13a54fc6",
   "metadata": {},
   "outputs": [
    {
     "data": {
      "text/plain": [
       "(1.0, 100000000000.0)"
      ]
     },
     "execution_count": 24,
     "metadata": {},
     "output_type": "execute_result"
    },
    {
     "data": {
      "image/png": "[encoded data removed]",
      "text/plain": [
       "<Figure size 432x288 with 1 Axes>"
      ]
     },
     "metadata": {
      "needs_background": "light"
     },
     "output_type": "display_data"
    }
   ],
   "source": [
    "plt.plot(np.arange(0,15,1e-3), euler_test[:,0])\n",
    "plt.yscale('log')\n",
    "plt.xlim(0,15)\n",
    "plt.ylim(1e0,1e11)"
   ]
  },
  {
   "cell_type": "code",
   "execution_count": 27,
   "id": "ff8773df",
   "metadata": {},
   "outputs": [
    {
     "data": {
      "text/plain": [
       "4569016977.974899"
      ]
     },
     "execution_count": 27,
     "metadata": {},
     "output_type": "execute_result"
    }
   ],
   "source": [
    "np.max(euler_test[:,0])"
   ]
  },
  {
   "cell_type": "code",
   "execution_count": 68,
   "id": "f62d79d3",
   "metadata": {},
   "outputs": [
    {
     "data": {
      "text/plain": [
       "0.00435"
      ]
     },
     "execution_count": 68,
     "metadata": {},
     "output_type": "execute_result"
    }
   ],
   "source": [
    "n/m"
   ]
  },
  {
   "cell_type": "code",
   "execution_count": 3,
   "id": "5ba64c71",
   "metadata": {},
   "outputs": [
    {
     "data": {
      "text/plain": [
       "2990"
      ]
     },
     "execution_count": 3,
     "metadata": {},
     "output_type": "execute_result"
    }
   ],
   "source": [
    "len(np.arange(0,29900,10))"
   ]
  },
  {
   "cell_type": "code",
   "execution_count": 10,
   "id": "57fba1c5",
   "metadata": {},
   "outputs": [],
   "source": [
    "euler_test = simulation(init,b,a0,a1,q0,q0,29900,1,tim,ttr)"
   ]
  },
  {
   "cell_type": "code",
   "execution_count": 11,
   "id": "4f9c2e87",
   "metadata": {},
   "outputs": [
    {
     "data": {
      "text/plain": [
       "3.686516476490606e-05"
      ]
     },
     "execution_count": 11,
     "metadata": {},
     "output_type": "execute_result"
    }
   ],
   "source": [
    "euler_test[:,1][5000]/euler_test[:,0][5000]"
   ]
  },
  {
   "cell_type": "code",
   "execution_count": 12,
   "id": "17909681",
   "metadata": {
    "scrolled": true
   },
   "outputs": [
    {
     "name": "stdout",
     "output_type": "stream",
     "text": [
      "0\n",
      "1\n",
      "2\n",
      "3\n",
      "4\n",
      "5\n",
      "6\n",
      "7\n",
      "8\n",
      "9\n",
      "10\n",
      "11\n",
      "12\n",
      "13\n",
      "14\n",
      "15\n",
      "16\n",
      "17\n",
      "18\n",
      "19\n",
      "20\n",
      "21\n",
      "22\n",
      "23\n",
      "24\n",
      "25\n",
      "26\n",
      "27\n",
      "28\n",
      "29\n",
      "30\n",
      "31\n",
      "32\n",
      "33\n",
      "34\n",
      "35\n",
      "36\n",
      "37\n",
      "38\n",
      "39\n",
      "40\n",
      "41\n",
      "42\n",
      "43\n",
      "44\n",
      "45\n",
      "46\n",
      "47\n",
      "48\n",
      "49\n",
      "0\n",
      "1\n",
      "2\n",
      "3\n",
      "4\n",
      "5\n",
      "6\n",
      "7\n",
      "8\n",
      "9\n",
      "10\n",
      "11\n",
      "12\n",
      "13\n",
      "14\n",
      "15\n",
      "16\n",
      "17\n",
      "18\n",
      "19\n",
      "20\n",
      "21\n",
      "22\n",
      "23\n",
      "24\n",
      "25\n",
      "26\n",
      "27\n",
      "28\n",
      "29\n",
      "30\n",
      "31\n",
      "32\n",
      "33\n",
      "34\n",
      "35\n",
      "36\n",
      "37\n",
      "38\n",
      "39\n",
      "40\n",
      "41\n",
      "42\n",
      "43\n",
      "44\n",
      "45\n",
      "46\n",
      "47\n",
      "48\n",
      "49\n"
     ]
    }
   ],
   "source": [
    "along_q1 = []\n",
    "\n",
    "for q1 in 1-np.logspace(-6,-2,50):\n",
    "    print(list(1-np.logspace(-6,-2,50)).index(q1))\n",
    "    along_q1.append(simulation(init,b,a0,a1,q0,q1,1500,1,tim,ttr))\n",
    "\n",
    "along_q1_2 = []\n",
    "\n",
    "for q1 in 1-np.logspace(-6,-2,50):\n",
    "    print(list(1-np.logspace(-6,-2,50)).index(q1))\n",
    "    along_q1_2.append(simulation(init,b,a0,a1,q0,q1,29900,1,tim,ttr))"
   ]
  },
  {
   "cell_type": "code",
   "execution_count": 13,
   "id": "0b2f5240",
   "metadata": {},
   "outputs": [
    {
     "data": {
      "text/plain": [
       "3.3444816053511705e-05"
      ]
     },
     "execution_count": 13,
     "metadata": {},
     "output_type": "execute_result"
    }
   ],
   "source": [
    "1/29900"
   ]
  },
  {
   "cell_type": "code",
   "execution_count": 17,
   "id": "f46ea280",
   "metadata": {},
   "outputs": [
    {
     "data": {
      "image/png": "[encoded data removed]",
      "text/plain": [
       "<Figure size 1296x432 with 2 Axes>"
      ]
     },
     "metadata": {
      "needs_background": "light"
     },
     "output_type": "display_data"
    }
   ],
   "source": [
    "fig, ax = plt.subplots(1,2, figsize = (18,6))\n",
    "ax[0].plot(np.logspace(-6,-3,50), [np.sum(euler_test[:,1][5000:])*1e-3 for euler_test in along_q1], c = 'k')\n",
    "ax[1].plot(np.logspace(-6,-3,50), [np.sum(euler_test[:,1][5000:])*1e-3 for euler_test in along_q1_2], c = 'k')\n",
    "\n",
    "for i in range(2):\n",
    "    ax[i].set_xscale('log')\n",
    "    ax[i].tick_params(labelsize = 14)\n",
    "    ax[i].yaxis.offsetText.set_fontsize(14)\n",
    "    ax[i].set_xlabel('Virus mutation rate under treatment $u_1$', fontsize = 15)\n",
    "    \n",
    "ax[0].set_ylabel('Cumulative virus load in clearance phase $Y^-$', fontsize = 15)\n",
    "ax[0].set_title('$\\eta$ < $n$/$m$', fontsize = 24)\n",
    "ax[1].set_title('$\\eta$ > $n$/$m$', fontsize = 24)\n",
    "\n",
    "ax[0].text(1.2e-4,0.9e6, '$n/m$ = 6.7 $\\cdot$ $10^{-4}$ \\n$\\eta$ = 3.79 $\\cdot$ $10^{-5}$', fontsize = 20)\n",
    "ax[1].text(1.2e-4,0.67e5, '$n/m$ = 3.3 $\\cdot$ $10^{-5}$ \\n$\\eta$ = 3.68 $\\cdot$ $10^{-5}$', fontsize = 20)\n",
    "\n",
    "plt.tight_layout()\n",
    "plt.savefig('behaviour_Yminus_referee2_new.jpg', dpi = 600, bbox_inches = 'tight')"
   ]
  },
  {
   "cell_type": "code",
   "execution_count": null,
   "id": "6a37f074",
   "metadata": {},
   "outputs": [],
   "source": []
  }
 ],
 "metadata": {
  "kernelspec": {
   "display_name": "Python 3",
   "language": "python",
   "name": "python3"
  },
  "language_info": {
   "codemirror_mode": {
    "name": "ipython",
    "version": 3
   },
   "file_extension": ".py",
   "mimetype": "text/x-python",
   "name": "python",
   "nbconvert_exporter": "python",
   "pygments_lexer": "ipython3",
   "version": "3.8.8"
  }
 },
 "nbformat": 4,
 "nbformat_minor": 5
}
