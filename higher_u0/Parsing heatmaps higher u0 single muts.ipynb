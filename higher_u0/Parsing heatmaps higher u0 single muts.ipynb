{
 "cells": [
  {
   "cell_type": "code",
   "execution_count": 18,
   "id": "e3808a62",
   "metadata": {},
   "outputs": [],
   "source": [
    "import os\n",
    "import pickle\n",
    "import pandas as pd\n",
    "import numpy as np\n",
    "from itertools import combinations\n",
    "import matplotlib.pyplot as plt\n",
    "from numpy import nan"
   ]
  },
  {
   "cell_type": "code",
   "execution_count": 19,
   "id": "645fcfc8",
   "metadata": {},
   "outputs": [],
   "source": [
    "files = [x for x in os.listdir('u0_1_10e5/') if 'results' in x]"
   ]
  },
  {
   "cell_type": "code",
   "execution_count": 20,
   "id": "d04a6ecd",
   "metadata": {},
   "outputs": [],
   "source": [
    "existing_results = [int(f.split('_')[-1].split('.')[0]) for f in files]"
   ]
  },
  {
   "cell_type": "code",
   "execution_count": 21,
   "id": "91b92737",
   "metadata": {},
   "outputs": [
    {
     "data": {
      "text/plain": [
       "set()"
      ]
     },
     "execution_count": 21,
     "metadata": {},
     "output_type": "execute_result"
    }
   ],
   "source": [
    "set(range(9261)) - set(existing_results)"
   ]
  },
  {
   "cell_type": "code",
   "execution_count": 22,
   "id": "06843575",
   "metadata": {},
   "outputs": [],
   "source": [
    "all_results = []\n",
    "for file in files:\n",
    "    with open('u0_1_10e5/'+file, 'rb') as f:\n",
    "        result_file = pickle.load(f)\n",
    "        for r in result_file['results']:\n",
    "            all_results.append(r)\n",
    "            \n",
    "result_df = pd.DataFrame(all_results)"
   ]
  },
  {
   "cell_type": "code",
   "execution_count": 23,
   "id": "1e48e0f7",
   "metadata": {
    "scrolled": true
   },
   "outputs": [],
   "source": [
    "with open('u0_1_10e5/paramgrid_newparams_a03.txt','rb') as f:\n",
    "    param_grid = pickle.load(f)"
   ]
  },
  {
   "cell_type": "code",
   "execution_count": 24,
   "id": "5b5e54d5",
   "metadata": {},
   "outputs": [],
   "source": [
    "along_m = sorted(list(set(result_df['m'])))\n",
    "along_n = sorted(list(set(result_df['n'])))\n",
    "along_ap = sorted(list(set(result_df['ap'])))\n",
    "along_ttr = sorted(list(set(result_df['ttr'])))\n",
    "along_qd = sorted(list(set(result_df['qd'])))\n",
    "along_m.remove(20000)\n",
    "along_ap.remove(7.8)\n",
    "along_ttr.remove(5)\n",
    "along_qd.remove(1-1e-5)\n",
    "along_n.remove(87)\n",
    "all_along_params = [('m',along_m), ('n',along_n), ('ap',along_ap), ('ttr',along_ttr), ('qd',along_qd)]\n",
    "all_names_params = ['m', 'n', 'ap', 'ttr', 'qd']"
   ]
  },
  {
   "cell_type": "code",
   "execution_count": 25,
   "id": "a50cfaaf",
   "metadata": {},
   "outputs": [],
   "source": [
    "all_colormap_params = list(combinations(all_along_params, 2))\n",
    "all_colormap_names = list(combinations(all_names_params,2))"
   ]
  },
  {
   "cell_type": "code",
   "execution_count": 26,
   "id": "5fae8d9c",
   "metadata": {},
   "outputs": [],
   "source": [
    "dict_other_vals = {'m':20000, 'n':87, 'ap': 7.8, 'qd':1-3e-5, 'ttr':5}"
   ]
  },
  {
   "cell_type": "code",
   "execution_count": 27,
   "id": "1982432d",
   "metadata": {},
   "outputs": [
    {
     "name": "stdout",
     "output_type": "stream",
     "text": [
      "('m', 'n')\n",
      "('m', 'ap')\n",
      "('m', 'ttr')\n",
      "('m', 'qd')\n",
      "('n', 'ap')\n",
      "('n', 'ttr')\n",
      "('n', 'qd')\n",
      "('ap', 'ttr')\n",
      "('ap', 'qd')\n",
      "('ttr', 'qd')\n"
     ]
    }
   ],
   "source": [
    "all_matrices_for_cmap = []\n",
    "\n",
    "for comb in all_colormap_params:\n",
    "    params_axes = (comb[0][0], comb[1][0])\n",
    "    print(params_axes)\n",
    "    other_params = set(all_names_params)-set(params_axes)\n",
    "\n",
    "    colormap_params = np.zeros((len(comb[0][1]), len(comb[1][1])))\n",
    "    \n",
    "    for xind in range(len(comb[0][1])):\n",
    "        for yind in range(len(comb[0][1])):\n",
    "            df_axes = result_df.copy()\n",
    "            for p in other_params:\n",
    "                df_axes = df_axes[df_axes[p] == dict_other_vals[p]]\n",
    "            df_axes = df_axes[(df_axes[params_axes[0]] == comb[0][1][xind])&(df_axes[params_axes[1]] == comb[1][1][yind])]\n",
    "            colormap_params[xind, yind] = list(df_axes['Y_treatment'])[0]/list(df_axes['Y_control'])[0]\n",
    "            \n",
    "    all_matrices_for_cmap.append(colormap_params)"
   ]
  },
  {
   "cell_type": "code",
   "execution_count": 28,
   "id": "a0ecb640",
   "metadata": {},
   "outputs": [],
   "source": [
    "indices_colormaps = []\n",
    "for i in range(5):\n",
    "    for j in range(2):\n",
    "        indices_colormaps.append((i,j))\n",
    "indices_colormaps = dict(zip(range(10), indices_colormaps))"
   ]
  },
  {
   "cell_type": "code",
   "execution_count": 29,
   "id": "abc3a9f2",
   "metadata": {},
   "outputs": [],
   "source": [
    "def calculate_ticks(ticklabels, truerange, tickrange):\n",
    "    tick_pos = []\n",
    "    for l in ticklabels:\n",
    "        NewValue = (((l - truerange[0]) * (tickrange[1] - tickrange[0])) / (truerange[1] - truerange[0])) + tickrange[0]\n",
    "        tick_pos.append(NewValue)\n",
    "    return(np.array(tick_pos))\n",
    "\n",
    "def calculate_ticks_log(ticklabels, truerange, tickrange):\n",
    "    tick_labels = np.log(ticklabels)\n",
    "    true_range = np.log(truerange)\n",
    "    tick_pos = []\n",
    "    for l in ticklabels:\n",
    "        NewValue = (((l - truerange[0]) * (tickrange[1] - tickrange[0])) / (truerange[1] - truerange[0])) + tickrange[0]\n",
    "        tick_pos.append(NewValue)\n",
    "    return(np.array(tick_pos))"
   ]
  },
  {
   "cell_type": "code",
   "execution_count": 35,
   "id": "152c34c1",
   "metadata": {},
   "outputs": [],
   "source": [
    "param_ticks = {'m':[1500,5000,10000,15000,20000,25000,29900],\n",
    "               'n':[1,200,400,600,800,1000],\n",
    "               'ap':[7.7,8.0,8.3,8.6,8.8],\n",
    "               'qd':[1-1e-5,1-10*3e-6,1-10*5e-6,1-10*7.5e-6,1-1e-4], \n",
    "               'ttr':[0,3,7,10,14]}\n",
    "param_ranges = {'m':[1500,29900],\n",
    "                'n':[1,1000],\n",
    "                'ap':[7.7,8.8],\n",
    "                'qd':[1e-5,1e-4],\n",
    "                'ttr':[0,14]}"
   ]
  },
  {
   "cell_type": "code",
   "execution_count": 36,
   "id": "fdc45b8a",
   "metadata": {},
   "outputs": [],
   "source": [
    "all_xticks, all_yticks = [],[]\n",
    "all_xticklabels, all_yticklabels = [],[]\n",
    "\n",
    "for i in range(10):\n",
    "    \n",
    "    x_param, y_param = all_colormap_names[i]\n",
    "\n",
    "    if y_param == 'qd':\n",
    "        ticks_y = calculate_ticks_log(1-np.array(param_ticks[y_param]), param_ranges[y_param], [0,19])\n",
    "    else:\n",
    "        ticks_y = calculate_ticks(np.array(param_ticks[y_param]), param_ranges[y_param], [0,19])\n",
    "        \n",
    "    if y_param == 'qd':\n",
    "        labels_y = list([\"{:.1e}\".format(1-x) for x in np.array(param_ticks[y_param])])\n",
    "    elif y_param == 'ap':\n",
    "        labels_y = [np.round(x,2) for x in param_ticks[y_param]]\n",
    "    else:\n",
    "        labels_y = [int(np.round(x)) for x in param_ticks[y_param]]\n",
    "        \n",
    "    if x_param == 'qd': \n",
    "        ticks_x = 19-np.array(calculate_ticks_log(1-np.array(param_ticks[x_param]), param_ranges[x_param], [0,19])[::-1])\n",
    "    else:\n",
    "        ticks_x = 19-np.array(calculate_ticks(np.array(param_ticks[x_param]), param_ranges[x_param], [0,19])[::-1])\n",
    "            \n",
    "\n",
    "    if x_param == 'qd':\n",
    "        labels_x = list([\"{:.1e}\".format(1-x) for x in np.array(param_ticks[x_param])])\n",
    "    elif x_param == 'ap':\n",
    "        labels_x = [np.round(x,2) for x in param_ticks[x_param]]\n",
    "    else:\n",
    "        labels_x = [int(np.round(x)) for x in param_ticks[x_param]]\n",
    "    \n",
    "    \n",
    "    all_xticks.append(ticks_x)\n",
    "    all_yticks.append(ticks_y)\n",
    "    all_xticklabels.append(labels_x)\n",
    "    all_yticklabels.append(labels_y)"
   ]
  },
  {
   "cell_type": "code",
   "execution_count": 37,
   "id": "64972436",
   "metadata": {},
   "outputs": [],
   "source": [
    "params_description = {'m':'Number of lethal positions $m$',\n",
    "                      'n':'Number of gain-of-function positions $n$',\n",
    "                      'ap': 'Clearance rate in clearance phase $a_1$ (per day)',\n",
    "                      'qd': 'Viral mutation rate under treatment $u_1$ (per bp)',\n",
    "                      'ttr': 'Time of start of treatment'}"
   ]
  },
  {
   "cell_type": "code",
   "execution_count": 38,
   "id": "3b810712",
   "metadata": {},
   "outputs": [
    {
     "data": {
      "image/png": "[encoded data removed]",
      "text/plain": [
       "<Figure size 576x1296 with 10 Axes>"
      ]
     },
     "metadata": {
      "needs_background": "light"
     },
     "output_type": "display_data"
    }
   ],
   "source": [
    "fig, ax = plt.subplots(5,2,figsize=(8,18))\n",
    "\n",
    "for i in range(10):\n",
    "    im = ax[indices_colormaps[i]].imshow(all_matrices_for_cmap[i][::-1], cmap = 'seismic', vmin = 0., vmax = 2)\n",
    "    if all_colormap_params[i][1][0] in ['qd']:\n",
    "        im = ax[indices_colormaps[i]].imshow(np.flip(all_matrices_for_cmap[i][::-1],1), cmap = 'seismic', vmin = 0., vmax = 2)\n",
    "\n",
    "    ax[indices_colormaps[i]].set_xticks(all_yticks[i])\n",
    "    ax[indices_colormaps[i]].set_xticklabels(all_yticklabels[i])\n",
    "    \n",
    "    ax[indices_colormaps[i]].set_yticks(all_xticks[i])\n",
    "    ax[indices_colormaps[i]].set_yticklabels(all_xticklabels[i][::-1])    \n",
    "    \n",
    "    \n",
    "    ax[indices_colormaps[i]].set_ylabel(params_description[all_colormap_params[i][0][0]])\n",
    "    ax[indices_colormaps[i]].set_xlabel(params_description[all_colormap_params[i][1][0]])\n",
    "    \n",
    "    \n",
    "plt.tight_layout(pad=1.0)\n",
    "plt.savefig('colormaps_highu0_1_10e5_all_params_JULY19.jpg', dpi = 600)"
   ]
  },
  {
   "cell_type": "code",
   "execution_count": 48,
   "id": "98519e52",
   "metadata": {},
   "outputs": [
    {
     "data": {
      "text/html": [
       "<div>\n",
       "<style scoped>\n",
       "    .dataframe tbody tr th:only-of-type {\n",
       "        vertical-align: middle;\n",
       "    }\n",
       "\n",
       "    .dataframe tbody tr th {\n",
       "        vertical-align: top;\n",
       "    }\n",
       "\n",
       "    .dataframe thead th {\n",
       "        text-align: right;\n",
       "    }\n",
       "</style>\n",
       "<table border=\"1\" class=\"dataframe\">\n",
       "  <thead>\n",
       "    <tr style=\"text-align: right;\">\n",
       "      <th></th>\n",
       "      <th>m</th>\n",
       "      <th>n</th>\n",
       "      <th>ap</th>\n",
       "      <th>qd</th>\n",
       "      <th>ttr</th>\n",
       "      <th>Y_control</th>\n",
       "      <th>Y_treatment</th>\n",
       "    </tr>\n",
       "  </thead>\n",
       "  <tbody>\n",
       "    <tr>\n",
       "      <th>0</th>\n",
       "      <td>1500.000000</td>\n",
       "      <td>1.000000</td>\n",
       "      <td>7.700000</td>\n",
       "      <td>0.99999</td>\n",
       "      <td>0.000000</td>\n",
       "      <td>2.079279e+07</td>\n",
       "      <td>2.079279e+07</td>\n",
       "    </tr>\n",
       "    <tr>\n",
       "      <th>1</th>\n",
       "      <td>1500.000000</td>\n",
       "      <td>1.000000</td>\n",
       "      <td>7.700000</td>\n",
       "      <td>0.99999</td>\n",
       "      <td>0.736842</td>\n",
       "      <td>2.079279e+07</td>\n",
       "      <td>2.079279e+07</td>\n",
       "    </tr>\n",
       "    <tr>\n",
       "      <th>2</th>\n",
       "      <td>1500.000000</td>\n",
       "      <td>1.000000</td>\n",
       "      <td>7.700000</td>\n",
       "      <td>0.99999</td>\n",
       "      <td>1.473684</td>\n",
       "      <td>2.079279e+07</td>\n",
       "      <td>2.079279e+07</td>\n",
       "    </tr>\n",
       "    <tr>\n",
       "      <th>3</th>\n",
       "      <td>1500.000000</td>\n",
       "      <td>1.000000</td>\n",
       "      <td>7.700000</td>\n",
       "      <td>0.99999</td>\n",
       "      <td>2.210526</td>\n",
       "      <td>2.079279e+07</td>\n",
       "      <td>2.079279e+07</td>\n",
       "    </tr>\n",
       "    <tr>\n",
       "      <th>4</th>\n",
       "      <td>1500.000000</td>\n",
       "      <td>1.000000</td>\n",
       "      <td>7.700000</td>\n",
       "      <td>0.99999</td>\n",
       "      <td>2.947368</td>\n",
       "      <td>2.079279e+07</td>\n",
       "      <td>2.079279e+07</td>\n",
       "    </tr>\n",
       "    <tr>\n",
       "      <th>...</th>\n",
       "      <td>...</td>\n",
       "      <td>...</td>\n",
       "      <td>...</td>\n",
       "      <td>...</td>\n",
       "      <td>...</td>\n",
       "      <td>...</td>\n",
       "      <td>...</td>\n",
       "    </tr>\n",
       "    <tr>\n",
       "      <th>4084096</th>\n",
       "      <td>8973.684211</td>\n",
       "      <td>631.947368</td>\n",
       "      <td>7.815789</td>\n",
       "      <td>0.99997</td>\n",
       "      <td>11.789474</td>\n",
       "      <td>1.217018e+08</td>\n",
       "      <td>1.213842e+08</td>\n",
       "    </tr>\n",
       "    <tr>\n",
       "      <th>4084097</th>\n",
       "      <td>8973.684211</td>\n",
       "      <td>631.947368</td>\n",
       "      <td>7.815789</td>\n",
       "      <td>0.99997</td>\n",
       "      <td>12.526316</td>\n",
       "      <td>1.217018e+08</td>\n",
       "      <td>1.215261e+08</td>\n",
       "    </tr>\n",
       "    <tr>\n",
       "      <th>4084098</th>\n",
       "      <td>8973.684211</td>\n",
       "      <td>631.947368</td>\n",
       "      <td>7.815789</td>\n",
       "      <td>0.99997</td>\n",
       "      <td>13.263158</td>\n",
       "      <td>1.217018e+08</td>\n",
       "      <td>1.216049e+08</td>\n",
       "    </tr>\n",
       "    <tr>\n",
       "      <th>4084099</th>\n",
       "      <td>8973.684211</td>\n",
       "      <td>631.947368</td>\n",
       "      <td>7.815789</td>\n",
       "      <td>0.99997</td>\n",
       "      <td>14.000000</td>\n",
       "      <td>1.217018e+08</td>\n",
       "      <td>1.216485e+08</td>\n",
       "    </tr>\n",
       "    <tr>\n",
       "      <th>4084100</th>\n",
       "      <td>8973.684211</td>\n",
       "      <td>631.947368</td>\n",
       "      <td>7.815789</td>\n",
       "      <td>0.99997</td>\n",
       "      <td>5.000000</td>\n",
       "      <td>1.217018e+08</td>\n",
       "      <td>6.293624e+07</td>\n",
       "    </tr>\n",
       "  </tbody>\n",
       "</table>\n",
       "<p>4084101 rows × 7 columns</p>\n",
       "</div>"
      ],
      "text/plain": [
       "                   m           n        ap       qd        ttr     Y_control  \\\n",
       "0        1500.000000    1.000000  7.700000  0.99999   0.000000  2.079279e+07   \n",
       "1        1500.000000    1.000000  7.700000  0.99999   0.736842  2.079279e+07   \n",
       "2        1500.000000    1.000000  7.700000  0.99999   1.473684  2.079279e+07   \n",
       "3        1500.000000    1.000000  7.700000  0.99999   2.210526  2.079279e+07   \n",
       "4        1500.000000    1.000000  7.700000  0.99999   2.947368  2.079279e+07   \n",
       "...              ...         ...       ...      ...        ...           ...   \n",
       "4084096  8973.684211  631.947368  7.815789  0.99997  11.789474  1.217018e+08   \n",
       "4084097  8973.684211  631.947368  7.815789  0.99997  12.526316  1.217018e+08   \n",
       "4084098  8973.684211  631.947368  7.815789  0.99997  13.263158  1.217018e+08   \n",
       "4084099  8973.684211  631.947368  7.815789  0.99997  14.000000  1.217018e+08   \n",
       "4084100  8973.684211  631.947368  7.815789  0.99997   5.000000  1.217018e+08   \n",
       "\n",
       "          Y_treatment  \n",
       "0        2.079279e+07  \n",
       "1        2.079279e+07  \n",
       "2        2.079279e+07  \n",
       "3        2.079279e+07  \n",
       "4        2.079279e+07  \n",
       "...               ...  \n",
       "4084096  1.213842e+08  \n",
       "4084097  1.215261e+08  \n",
       "4084098  1.216049e+08  \n",
       "4084099  1.216485e+08  \n",
       "4084100  6.293624e+07  \n",
       "\n",
       "[4084101 rows x 7 columns]"
      ]
     },
     "execution_count": 48,
     "metadata": {},
     "output_type": "execute_result"
    }
   ],
   "source": [
    "result_df"
   ]
  },
  {
   "cell_type": "code",
   "execution_count": null,
   "id": "c1bf0cc3",
   "metadata": {},
   "outputs": [],
   "source": []
  }
 ],
 "metadata": {
  "kernelspec": {
   "display_name": "Python 3",
   "language": "python",
   "name": "python3"
  },
  "language_info": {
   "codemirror_mode": {
    "name": "ipython",
    "version": 3
   },
   "file_extension": ".py",
   "mimetype": "text/x-python",
   "name": "python",
   "nbconvert_exporter": "python",
   "pygments_lexer": "ipython3",
   "version": "3.8.8"
  }
 },
 "nbformat": 4,
 "nbformat_minor": 5
}
