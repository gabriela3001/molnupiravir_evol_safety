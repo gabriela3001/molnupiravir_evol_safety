{
 "cells": [
  {
   "cell_type": "code",
   "execution_count": 20,
   "id": "c1fa2e7e",
   "metadata": {},
   "outputs": [],
   "source": [
    "import numpy as np\n",
    "import pickle\n",
    "import matplotlib.pyplot as plt\n",
    "import os\n",
    "import pandas as pd\n",
    "from sklearn.model_selection import ParameterGrid\n",
    "from itertools import combinations"
   ]
  },
  {
   "cell_type": "code",
   "execution_count": 78,
   "id": "573a1dc3",
   "metadata": {},
   "outputs": [],
   "source": [
    "files = [f for f in os.listdir('DM_u0_5_10e6/') if 'results' in f and int(f.split('_')[-1].split('.')[0]) in landscape_0_inds]"
   ]
  },
  {
   "cell_type": "code",
   "execution_count": 79,
   "id": "fbe6385e",
   "metadata": {},
   "outputs": [],
   "source": [
    "all_results = []\n",
    "\n",
    "for file in files:\n",
    "    \n",
    "    with open('DM_u0_5_10e6/'+file, 'rb') as f:\n",
    "        result = pickle.load(f)\n",
    "        \n",
    "    for r in result:\n",
    "        \n",
    "        all_results.append({'m':r['m'], 'a1':r['ap'], 'q1':r['qd'], 'T':r['ttr'], \n",
    "                           'SM_control':r['Y_control'][1]+r['Y_control'][2], \n",
    "                           'SM_treatment':r['Y_treatment'][1]+r['Y_treatment'][2], \n",
    "                           'DM_control':r['Y_control'][-1],\n",
    "                           'DM_treatment':r['Y_treatment'][-1]})\n",
    "                           #'DM_control':r['Y_control'][1]+r['Y_control'][2]+r['Y_control'][-1],\n",
    "                           #'DM_treatment':r['Y_treatment'][1]+r['Y_treatment'][2]+r['Y_treatment'][-1]})\n",
    "        \n",
    "df_all_results = pd.DataFrame(all_results)"
   ]
  },
  {
   "cell_type": "code",
   "execution_count": 80,
   "id": "fefc82b0",
   "metadata": {},
   "outputs": [],
   "source": [
    "with open('DM_u0_5_10e6/paramgrid_ERF_epistasis.txt', 'rb') as f:\n",
    "    param_grid = pickle.load(f)\n",
    "df_paramgrid = pd.DataFrame(param_grid)"
   ]
  },
  {
   "cell_type": "code",
   "execution_count": 81,
   "id": "02af9d71",
   "metadata": {},
   "outputs": [],
   "source": [
    "landscape_0_inds = set(df_paramgrid[df_paramgrid['landscape_index'] == 0].index)"
   ]
  },
  {
   "cell_type": "code",
   "execution_count": 82,
   "id": "c4c31f78",
   "metadata": {},
   "outputs": [],
   "source": [
    "along_m = sorted(list(set(df_all_results['m'])))\n",
    "along_ap = sorted(list(set(df_all_results['a1'])))\n",
    "along_ttr = sorted(list(set(df_all_results['T'])))\n",
    "along_qd = sorted(list(set(df_all_results['q1'])))\n",
    "along_m.remove(20000)\n",
    "along_ap.remove(7.8)\n",
    "along_ttr.remove(5)\n",
    "along_qd.remove(1-5*3e-6)\n",
    "all_along_params = [('m',along_m), ('a1',along_ap), ('T',along_ttr), ('q1',along_qd)]\n",
    "all_names_params = ['m', 'a1', 'T', 'q1']"
   ]
  },
  {
   "cell_type": "code",
   "execution_count": 83,
   "id": "af9b9437",
   "metadata": {},
   "outputs": [],
   "source": [
    "all_colormap_params = list(combinations(all_along_params, 2))\n",
    "all_colormap_names = list(combinations(all_names_params,2))"
   ]
  },
  {
   "cell_type": "code",
   "execution_count": 84,
   "id": "0548c7f8",
   "metadata": {},
   "outputs": [],
   "source": [
    "dict_other_vals = {'m':20000, 'a1': 7.8, 'q1':1-5*3e-6, 'T':5}\n",
    "r1 = 1"
   ]
  },
  {
   "cell_type": "code",
   "execution_count": 85,
   "id": "58f98be3",
   "metadata": {},
   "outputs": [
    {
     "name": "stdout",
     "output_type": "stream",
     "text": [
      "('m', 'a1')\n",
      "('m', 'T')\n",
      "('m', 'q1')\n",
      "('a1', 'T')\n",
      "('a1', 'q1')\n",
      "('T', 'q1')\n"
     ]
    }
   ],
   "source": [
    "all_matrices_for_cmap = []\n",
    "\n",
    "for comb in all_colormap_params:\n",
    "    params_axes = (comb[0][0], comb[1][0])\n",
    "    print(params_axes)\n",
    "    other_params = set(all_names_params)-set(params_axes)\n",
    "\n",
    "    colormap_params = np.zeros((len(comb[0][1]), len(comb[1][1])))\n",
    "    \n",
    "    for xind in range(len(comb[0][1])):\n",
    "        for yind in range(len(comb[0][1])):\n",
    "            df_axes = df_all_results.copy()\n",
    "            for p in other_params:\n",
    "                df_axes = df_axes[df_axes[p] == dict_other_vals[p]]\n",
    "            df_axes = df_axes[(df_axes[params_axes[0]] == comb[0][1][xind])&(df_axes[params_axes[1]] == comb[1][1][yind])]\n",
    "            \n",
    "            #num = list(df_axes['SM_treatment'])[0]+r1*list(df_axes['DM_treatment'])[0]\n",
    "            #den = list(df_axes['SM_control'])[0]+r1*list(df_axes['DM_control'])[0]\n",
    "            \n",
    "            num = list(df_axes['DM_treatment'])[0]\n",
    "            den = list(df_axes['DM_control'])[0]\n",
    "            colormap_params[xind, yind] = num/den\n",
    "            \n",
    "    all_matrices_for_cmap.append(colormap_params)"
   ]
  },
  {
   "cell_type": "code",
   "execution_count": 86,
   "id": "ac81dbc1",
   "metadata": {},
   "outputs": [],
   "source": [
    "indices_colormaps = []\n",
    "for i in range(3):\n",
    "    for j in range(2):\n",
    "        indices_colormaps.append((i,j))\n",
    "indices_colormaps = dict(zip(range(6), indices_colormaps))"
   ]
  },
  {
   "cell_type": "code",
   "execution_count": 87,
   "id": "e1cc9e44",
   "metadata": {},
   "outputs": [],
   "source": [
    "def calculate_ticks(ticklabels, truerange, tickrange):\n",
    "    tick_pos = []\n",
    "    for l in ticklabels:\n",
    "        NewValue = (((l - truerange[0]) * (tickrange[1] - tickrange[0])) / (truerange[1] - truerange[0])) + tickrange[0]\n",
    "        tick_pos.append(NewValue)\n",
    "    return(np.array(tick_pos))\n",
    "\n",
    "def calculate_ticks_log(ticklabels, truerange, tickrange):\n",
    "    tick_labels = np.log(ticklabels)\n",
    "    true_range = np.log(truerange)\n",
    "    tick_pos = []\n",
    "    for l in ticklabels:\n",
    "        NewValue = (((l - truerange[0]) * (tickrange[1] - tickrange[0])) / (truerange[1] - truerange[0])) + tickrange[0]\n",
    "        tick_pos.append(NewValue)\n",
    "    return(np.array(tick_pos))"
   ]
  },
  {
   "cell_type": "code",
   "execution_count": 88,
   "id": "e70d43fc",
   "metadata": {},
   "outputs": [],
   "source": [
    "param_ticks = {'m':[1500,5000,10000,15000,20000,25000,29900],\n",
    "               'a1':[7.7,8.0,8.3,8.6,8.8],\n",
    "               'q1':[1-5e-6,1-5*3e-6,1-5*5e-6,1-5*7.5e-6,1-5*1e-5], \n",
    "               'T':[0,3,7,10,14]}\n",
    "param_ranges = {'m':[1500,29900],\n",
    "                'a1':[7.7,8.8],\n",
    "                'q1':[5e-6,5e-5],\n",
    "                'T':[0,14]}"
   ]
  },
  {
   "cell_type": "code",
   "execution_count": 89,
   "id": "86907457",
   "metadata": {},
   "outputs": [],
   "source": [
    "all_xticks, all_yticks = [],[]\n",
    "all_xticklabels, all_yticklabels = [],[]\n",
    "\n",
    "for i in range(6):\n",
    "    \n",
    "    x_param, y_param = all_colormap_names[i]\n",
    "\n",
    "    if y_param == 'q1':\n",
    "        ticks_y = calculate_ticks_log(1-np.array(param_ticks[y_param]), param_ranges[y_param], [0,19])\n",
    "    else:\n",
    "        ticks_y = calculate_ticks(np.array(param_ticks[y_param]), param_ranges[y_param], [0,19])\n",
    "        \n",
    "    if y_param == 'q1':\n",
    "        labels_y = list([\"{:.1e}\".format(1-x) for x in np.array(param_ticks[y_param])])\n",
    "    elif y_param == 'a1':\n",
    "        labels_y = [np.round(x,2) for x in param_ticks[y_param]]\n",
    "    else:\n",
    "        labels_y = [int(np.round(x)) for x in param_ticks[y_param]]\n",
    "        \n",
    "    if x_param == 'q1': \n",
    "        ticks_x = 19-np.array(calculate_ticks_log(1-np.array(param_ticks[x_param]), param_ranges[x_param], [0,19])[::-1])\n",
    "    else:\n",
    "        ticks_x = 19-np.array(calculate_ticks(np.array(param_ticks[x_param]), param_ranges[x_param], [0,19])[::-1])\n",
    "            \n",
    "\n",
    "    if x_param == 'q1':\n",
    "        labels_x = list([\"{:.1e}\".format(1-x) for x in np.array(param_ticks[x_param])])\n",
    "    elif x_param == 'a1':\n",
    "        labels_x = [np.round(x,2) for x in param_ticks[x_param]]\n",
    "    else:\n",
    "        labels_x = [int(np.round(x)) for x in param_ticks[x_param]]\n",
    "    \n",
    "    \n",
    "    all_xticks.append(ticks_x)\n",
    "    all_yticks.append(ticks_y)\n",
    "    all_xticklabels.append(labels_x)\n",
    "    all_yticklabels.append(labels_y)"
   ]
  },
  {
   "cell_type": "code",
   "execution_count": 90,
   "id": "e48977ab",
   "metadata": {},
   "outputs": [],
   "source": [
    "params_description = {'m':'Number of lethal positions $m$',\n",
    "                      'n':'Number of gain-of-function positions $n$',\n",
    "                      'a1': 'Clearance rate in clearance phase $a_1$ (per day)',\n",
    "                      'q1': 'Viral mutation rate under treatment $u_1$ (per bp)',\n",
    "                      'T': 'Time of start of treatment'}"
   ]
  },
  {
   "cell_type": "code",
   "execution_count": 93,
   "id": "cb584c07",
   "metadata": {},
   "outputs": [
    {
     "data": {
      "image/png": "[encoded data removed]",
      "text/plain": [
       "<Figure size 1008x1440 with 6 Axes>"
      ]
     },
     "metadata": {
      "needs_background": "light"
     },
     "output_type": "display_data"
    }
   ],
   "source": [
    "fig, ax = plt.subplots(3,2,figsize=(14,20))\n",
    "\n",
    "for i in range(6):\n",
    "    im = ax[indices_colormaps[i]].imshow(all_matrices_for_cmap[i][::-1], cmap = 'seismic', vmin = 0., vmax = 2)\n",
    "    if all_colormap_params[i][1][0] in ['q1']:\n",
    "        im = ax[indices_colormaps[i]].imshow(np.flip(all_matrices_for_cmap[i][::-1],1), cmap = 'seismic', vmin = 0., vmax = 2)\n",
    "\n",
    "    ax[indices_colormaps[i]].set_xticks(all_yticks[i])\n",
    "    ax[indices_colormaps[i]].set_xticklabels(all_yticklabels[i], fontsize = 16)\n",
    "    \n",
    "    ax[indices_colormaps[i]].set_yticks(all_xticks[i])\n",
    "    ax[indices_colormaps[i]].set_yticklabels(all_xticklabels[i][::-1], fontsize = 16)    \n",
    "    \n",
    "    \n",
    "    ax[indices_colormaps[i]].set_ylabel(params_description[all_colormap_params[i][0][0]], fontsize = 18)\n",
    "    ax[indices_colormaps[i]].set_xlabel(params_description[all_colormap_params[i][1][0]], fontsize = 18)\n",
    "    \n",
    "    \n",
    "plt.tight_layout(pad=3.0)\n",
    "plt.savefig('_colormaps_fig5_epistasis_ERF_DM_5e6_onlyDm_JULY19.jpg', dpi = 600)"
   ]
  },
  {
   "cell_type": "code",
   "execution_count": 30,
   "id": "e28d0cb1",
   "metadata": {},
   "outputs": [
    {
     "data": {
      "text/plain": [
       "[array([[1., 1., 1., 1., 1., 1., 1., 1., 1., 1., 1., 1., 1., 1., 1., 1.,\n",
       "         1., 1., 1., 1.],\n",
       "        [1., 1., 1., 1., 1., 1., 1., 1., 1., 1., 1., 1., 1., 1., 1., 1.,\n",
       "         1., 1., 1., 1.],\n",
       "        [1., 1., 1., 1., 1., 1., 1., 1., 1., 1., 1., 1., 1., 1., 1., 1.,\n",
       "         1., 1., 1., 1.],\n",
       "        [1., 1., 1., 1., 1., 1., 1., 1., 1., 1., 1., 1., 1., 1., 1., 1.,\n",
       "         1., 1., 1., 1.],\n",
       "        [1., 1., 1., 1., 1., 1., 1., 1., 1., 1., 1., 1., 1., 1., 1., 1.,\n",
       "         1., 1., 1., 1.],\n",
       "        [1., 1., 1., 1., 1., 1., 1., 1., 1., 1., 1., 1., 1., 1., 1., 1.,\n",
       "         1., 1., 1., 1.],\n",
       "        [1., 1., 1., 1., 1., 1., 1., 1., 1., 1., 1., 1., 1., 1., 1., 1.,\n",
       "         1., 1., 1., 1.],\n",
       "        [1., 1., 1., 1., 1., 1., 1., 1., 1., 1., 1., 1., 1., 1., 1., 1.,\n",
       "         1., 1., 1., 1.],\n",
       "        [1., 1., 1., 1., 1., 1., 1., 1., 1., 1., 1., 1., 1., 1., 1., 1.,\n",
       "         1., 1., 1., 1.],\n",
       "        [1., 1., 1., 1., 1., 1., 1., 1., 1., 1., 1., 1., 1., 1., 1., 1.,\n",
       "         1., 1., 1., 1.],\n",
       "        [1., 1., 1., 1., 1., 1., 1., 1., 1., 1., 1., 1., 1., 1., 1., 1.,\n",
       "         1., 1., 1., 1.],\n",
       "        [1., 1., 1., 1., 1., 1., 1., 1., 1., 1., 1., 1., 1., 1., 1., 1.,\n",
       "         1., 1., 1., 1.],\n",
       "        [1., 1., 1., 1., 1., 1., 1., 1., 1., 1., 1., 1., 1., 1., 1., 1.,\n",
       "         1., 1., 1., 1.],\n",
       "        [1., 1., 1., 1., 1., 1., 1., 1., 1., 1., 1., 1., 1., 1., 1., 1.,\n",
       "         1., 1., 1., 1.],\n",
       "        [1., 1., 1., 1., 1., 1., 1., 1., 1., 1., 1., 1., 1., 1., 1., 1.,\n",
       "         1., 1., 1., 1.],\n",
       "        [1., 1., 1., 1., 1., 1., 1., 1., 1., 1., 1., 1., 1., 1., 1., 1.,\n",
       "         1., 1., 1., 1.],\n",
       "        [1., 1., 1., 1., 1., 1., 1., 1., 1., 1., 1., 1., 1., 1., 1., 1.,\n",
       "         1., 1., 1., 1.],\n",
       "        [1., 1., 1., 1., 1., 1., 1., 1., 1., 1., 1., 1., 1., 1., 1., 1.,\n",
       "         1., 1., 1., 1.],\n",
       "        [1., 1., 1., 1., 1., 1., 1., 1., 1., 1., 1., 1., 1., 1., 1., 1.,\n",
       "         1., 1., 1., 1.],\n",
       "        [1., 1., 1., 1., 1., 1., 1., 1., 1., 1., 1., 1., 1., 1., 1., 1.,\n",
       "         1., 1., 1., 1.]]),\n",
       " array([[1., 1., 1., 1., 1., 1., 1., 1., 1., 1., 1., 1., 1., 1., 1., 1.,\n",
       "         1., 1., 1., 1.],\n",
       "        [1., 1., 1., 1., 1., 1., 1., 1., 1., 1., 1., 1., 1., 1., 1., 1.,\n",
       "         1., 1., 1., 1.],\n",
       "        [1., 1., 1., 1., 1., 1., 1., 1., 1., 1., 1., 1., 1., 1., 1., 1.,\n",
       "         1., 1., 1., 1.],\n",
       "        [1., 1., 1., 1., 1., 1., 1., 1., 1., 1., 1., 1., 1., 1., 1., 1.,\n",
       "         1., 1., 1., 1.],\n",
       "        [1., 1., 1., 1., 1., 1., 1., 1., 1., 1., 1., 1., 1., 1., 1., 1.,\n",
       "         1., 1., 1., 1.],\n",
       "        [1., 1., 1., 1., 1., 1., 1., 1., 1., 1., 1., 1., 1., 1., 1., 1.,\n",
       "         1., 1., 1., 1.],\n",
       "        [1., 1., 1., 1., 1., 1., 1., 1., 1., 1., 1., 1., 1., 1., 1., 1.,\n",
       "         1., 1., 1., 1.],\n",
       "        [1., 1., 1., 1., 1., 1., 1., 1., 1., 1., 1., 1., 1., 1., 1., 1.,\n",
       "         1., 1., 1., 1.],\n",
       "        [1., 1., 1., 1., 1., 1., 1., 1., 1., 1., 1., 1., 1., 1., 1., 1.,\n",
       "         1., 1., 1., 1.],\n",
       "        [1., 1., 1., 1., 1., 1., 1., 1., 1., 1., 1., 1., 1., 1., 1., 1.,\n",
       "         1., 1., 1., 1.],\n",
       "        [1., 1., 1., 1., 1., 1., 1., 1., 1., 1., 1., 1., 1., 1., 1., 1.,\n",
       "         1., 1., 1., 1.],\n",
       "        [1., 1., 1., 1., 1., 1., 1., 1., 1., 1., 1., 1., 1., 1., 1., 1.,\n",
       "         1., 1., 1., 1.],\n",
       "        [1., 1., 1., 1., 1., 1., 1., 1., 1., 1., 1., 1., 1., 1., 1., 1.,\n",
       "         1., 1., 1., 1.],\n",
       "        [1., 1., 1., 1., 1., 1., 1., 1., 1., 1., 1., 1., 1., 1., 1., 1.,\n",
       "         1., 1., 1., 1.],\n",
       "        [1., 1., 1., 1., 1., 1., 1., 1., 1., 1., 1., 1., 1., 1., 1., 1.,\n",
       "         1., 1., 1., 1.],\n",
       "        [1., 1., 1., 1., 1., 1., 1., 1., 1., 1., 1., 1., 1., 1., 1., 1.,\n",
       "         1., 1., 1., 1.],\n",
       "        [1., 1., 1., 1., 1., 1., 1., 1., 1., 1., 1., 1., 1., 1., 1., 1.,\n",
       "         1., 1., 1., 1.],\n",
       "        [1., 1., 1., 1., 1., 1., 1., 1., 1., 1., 1., 1., 1., 1., 1., 1.,\n",
       "         1., 1., 1., 1.],\n",
       "        [1., 1., 1., 1., 1., 1., 1., 1., 1., 1., 1., 1., 1., 1., 1., 1.,\n",
       "         1., 1., 1., 1.],\n",
       "        [1., 1., 1., 1., 1., 1., 1., 1., 1., 1., 1., 1., 1., 1., 1., 1.,\n",
       "         1., 1., 1., 1.]]),\n",
       " array([[1., 1., 1., 1., 1., 1., 1., 1., 1., 1., 1., 1., 1., 1., 1., 1.,\n",
       "         1., 1., 1., 1.],\n",
       "        [1., 1., 1., 1., 1., 1., 1., 1., 1., 1., 1., 1., 1., 1., 1., 1.,\n",
       "         1., 1., 1., 1.],\n",
       "        [1., 1., 1., 1., 1., 1., 1., 1., 1., 1., 1., 1., 1., 1., 1., 1.,\n",
       "         1., 1., 1., 1.],\n",
       "        [1., 1., 1., 1., 1., 1., 1., 1., 1., 1., 1., 1., 1., 1., 1., 1.,\n",
       "         1., 1., 1., 1.],\n",
       "        [1., 1., 1., 1., 1., 1., 1., 1., 1., 1., 1., 1., 1., 1., 1., 1.,\n",
       "         1., 1., 1., 1.],\n",
       "        [1., 1., 1., 1., 1., 1., 1., 1., 1., 1., 1., 1., 1., 1., 1., 1.,\n",
       "         1., 1., 1., 1.],\n",
       "        [1., 1., 1., 1., 1., 1., 1., 1., 1., 1., 1., 1., 1., 1., 1., 1.,\n",
       "         1., 1., 1., 1.],\n",
       "        [1., 1., 1., 1., 1., 1., 1., 1., 1., 1., 1., 1., 1., 1., 1., 1.,\n",
       "         1., 1., 1., 1.],\n",
       "        [1., 1., 1., 1., 1., 1., 1., 1., 1., 1., 1., 1., 1., 1., 1., 1.,\n",
       "         1., 1., 1., 1.],\n",
       "        [1., 1., 1., 1., 1., 1., 1., 1., 1., 1., 1., 1., 1., 1., 1., 1.,\n",
       "         1., 1., 1., 1.],\n",
       "        [1., 1., 1., 1., 1., 1., 1., 1., 1., 1., 1., 1., 1., 1., 1., 1.,\n",
       "         1., 1., 1., 1.],\n",
       "        [1., 1., 1., 1., 1., 1., 1., 1., 1., 1., 1., 1., 1., 1., 1., 1.,\n",
       "         1., 1., 1., 1.],\n",
       "        [1., 1., 1., 1., 1., 1., 1., 1., 1., 1., 1., 1., 1., 1., 1., 1.,\n",
       "         1., 1., 1., 1.],\n",
       "        [1., 1., 1., 1., 1., 1., 1., 1., 1., 1., 1., 1., 1., 1., 1., 1.,\n",
       "         1., 1., 1., 1.],\n",
       "        [1., 1., 1., 1., 1., 1., 1., 1., 1., 1., 1., 1., 1., 1., 1., 1.,\n",
       "         1., 1., 1., 1.],\n",
       "        [1., 1., 1., 1., 1., 1., 1., 1., 1., 1., 1., 1., 1., 1., 1., 1.,\n",
       "         1., 1., 1., 1.],\n",
       "        [1., 1., 1., 1., 1., 1., 1., 1., 1., 1., 1., 1., 1., 1., 1., 1.,\n",
       "         1., 1., 1., 1.],\n",
       "        [1., 1., 1., 1., 1., 1., 1., 1., 1., 1., 1., 1., 1., 1., 1., 1.,\n",
       "         1., 1., 1., 1.],\n",
       "        [1., 1., 1., 1., 1., 1., 1., 1., 1., 1., 1., 1., 1., 1., 1., 1.,\n",
       "         1., 1., 1., 1.],\n",
       "        [1., 1., 1., 1., 1., 1., 1., 1., 1., 1., 1., 1., 1., 1., 1., 1.,\n",
       "         1., 1., 1., 1.]]),\n",
       " array([[1., 1., 1., 1., 1., 1., 1., 1., 1., 1., 1., 1., 1., 1., 1., 1.,\n",
       "         1., 1., 1., 1.],\n",
       "        [1., 1., 1., 1., 1., 1., 1., 1., 1., 1., 1., 1., 1., 1., 1., 1.,\n",
       "         1., 1., 1., 1.],\n",
       "        [1., 1., 1., 1., 1., 1., 1., 1., 1., 1., 1., 1., 1., 1., 1., 1.,\n",
       "         1., 1., 1., 1.],\n",
       "        [1., 1., 1., 1., 1., 1., 1., 1., 1., 1., 1., 1., 1., 1., 1., 1.,\n",
       "         1., 1., 1., 1.],\n",
       "        [1., 1., 1., 1., 1., 1., 1., 1., 1., 1., 1., 1., 1., 1., 1., 1.,\n",
       "         1., 1., 1., 1.],\n",
       "        [1., 1., 1., 1., 1., 1., 1., 1., 1., 1., 1., 1., 1., 1., 1., 1.,\n",
       "         1., 1., 1., 1.],\n",
       "        [1., 1., 1., 1., 1., 1., 1., 1., 1., 1., 1., 1., 1., 1., 1., 1.,\n",
       "         1., 1., 1., 1.],\n",
       "        [1., 1., 1., 1., 1., 1., 1., 1., 1., 1., 1., 1., 1., 1., 1., 1.,\n",
       "         1., 1., 1., 1.],\n",
       "        [1., 1., 1., 1., 1., 1., 1., 1., 1., 1., 1., 1., 1., 1., 1., 1.,\n",
       "         1., 1., 1., 1.],\n",
       "        [1., 1., 1., 1., 1., 1., 1., 1., 1., 1., 1., 1., 1., 1., 1., 1.,\n",
       "         1., 1., 1., 1.],\n",
       "        [1., 1., 1., 1., 1., 1., 1., 1., 1., 1., 1., 1., 1., 1., 1., 1.,\n",
       "         1., 1., 1., 1.],\n",
       "        [1., 1., 1., 1., 1., 1., 1., 1., 1., 1., 1., 1., 1., 1., 1., 1.,\n",
       "         1., 1., 1., 1.],\n",
       "        [1., 1., 1., 1., 1., 1., 1., 1., 1., 1., 1., 1., 1., 1., 1., 1.,\n",
       "         1., 1., 1., 1.],\n",
       "        [1., 1., 1., 1., 1., 1., 1., 1., 1., 1., 1., 1., 1., 1., 1., 1.,\n",
       "         1., 1., 1., 1.],\n",
       "        [1., 1., 1., 1., 1., 1., 1., 1., 1., 1., 1., 1., 1., 1., 1., 1.,\n",
       "         1., 1., 1., 1.],\n",
       "        [1., 1., 1., 1., 1., 1., 1., 1., 1., 1., 1., 1., 1., 1., 1., 1.,\n",
       "         1., 1., 1., 1.],\n",
       "        [1., 1., 1., 1., 1., 1., 1., 1., 1., 1., 1., 1., 1., 1., 1., 1.,\n",
       "         1., 1., 1., 1.],\n",
       "        [1., 1., 1., 1., 1., 1., 1., 1., 1., 1., 1., 1., 1., 1., 1., 1.,\n",
       "         1., 1., 1., 1.],\n",
       "        [1., 1., 1., 1., 1., 1., 1., 1., 1., 1., 1., 1., 1., 1., 1., 1.,\n",
       "         1., 1., 1., 1.],\n",
       "        [1., 1., 1., 1., 1., 1., 1., 1., 1., 1., 1., 1., 1., 1., 1., 1.,\n",
       "         1., 1., 1., 1.]]),\n",
       " array([[1., 1., 1., 1., 1., 1., 1., 1., 1., 1., 1., 1., 1., 1., 1., 1.,\n",
       "         1., 1., 1., 1.],\n",
       "        [1., 1., 1., 1., 1., 1., 1., 1., 1., 1., 1., 1., 1., 1., 1., 1.,\n",
       "         1., 1., 1., 1.],\n",
       "        [1., 1., 1., 1., 1., 1., 1., 1., 1., 1., 1., 1., 1., 1., 1., 1.,\n",
       "         1., 1., 1., 1.],\n",
       "        [1., 1., 1., 1., 1., 1., 1., 1., 1., 1., 1., 1., 1., 1., 1., 1.,\n",
       "         1., 1., 1., 1.],\n",
       "        [1., 1., 1., 1., 1., 1., 1., 1., 1., 1., 1., 1., 1., 1., 1., 1.,\n",
       "         1., 1., 1., 1.],\n",
       "        [1., 1., 1., 1., 1., 1., 1., 1., 1., 1., 1., 1., 1., 1., 1., 1.,\n",
       "         1., 1., 1., 1.],\n",
       "        [1., 1., 1., 1., 1., 1., 1., 1., 1., 1., 1., 1., 1., 1., 1., 1.,\n",
       "         1., 1., 1., 1.],\n",
       "        [1., 1., 1., 1., 1., 1., 1., 1., 1., 1., 1., 1., 1., 1., 1., 1.,\n",
       "         1., 1., 1., 1.],\n",
       "        [1., 1., 1., 1., 1., 1., 1., 1., 1., 1., 1., 1., 1., 1., 1., 1.,\n",
       "         1., 1., 1., 1.],\n",
       "        [1., 1., 1., 1., 1., 1., 1., 1., 1., 1., 1., 1., 1., 1., 1., 1.,\n",
       "         1., 1., 1., 1.],\n",
       "        [1., 1., 1., 1., 1., 1., 1., 1., 1., 1., 1., 1., 1., 1., 1., 1.,\n",
       "         1., 1., 1., 1.],\n",
       "        [1., 1., 1., 1., 1., 1., 1., 1., 1., 1., 1., 1., 1., 1., 1., 1.,\n",
       "         1., 1., 1., 1.],\n",
       "        [1., 1., 1., 1., 1., 1., 1., 1., 1., 1., 1., 1., 1., 1., 1., 1.,\n",
       "         1., 1., 1., 1.],\n",
       "        [1., 1., 1., 1., 1., 1., 1., 1., 1., 1., 1., 1., 1., 1., 1., 1.,\n",
       "         1., 1., 1., 1.],\n",
       "        [1., 1., 1., 1., 1., 1., 1., 1., 1., 1., 1., 1., 1., 1., 1., 1.,\n",
       "         1., 1., 1., 1.],\n",
       "        [1., 1., 1., 1., 1., 1., 1., 1., 1., 1., 1., 1., 1., 1., 1., 1.,\n",
       "         1., 1., 1., 1.],\n",
       "        [1., 1., 1., 1., 1., 1., 1., 1., 1., 1., 1., 1., 1., 1., 1., 1.,\n",
       "         1., 1., 1., 1.],\n",
       "        [1., 1., 1., 1., 1., 1., 1., 1., 1., 1., 1., 1., 1., 1., 1., 1.,\n",
       "         1., 1., 1., 1.],\n",
       "        [1., 1., 1., 1., 1., 1., 1., 1., 1., 1., 1., 1., 1., 1., 1., 1.,\n",
       "         1., 1., 1., 1.],\n",
       "        [1., 1., 1., 1., 1., 1., 1., 1., 1., 1., 1., 1., 1., 1., 1., 1.,\n",
       "         1., 1., 1., 1.]]),\n",
       " array([[1., 1., 1., 1., 1., 1., 1., 1., 1., 1., 1., 1., 1., 1., 1., 1.,\n",
       "         1., 1., 1., 1.],\n",
       "        [1., 1., 1., 1., 1., 1., 1., 1., 1., 1., 1., 1., 1., 1., 1., 1.,\n",
       "         1., 1., 1., 1.],\n",
       "        [1., 1., 1., 1., 1., 1., 1., 1., 1., 1., 1., 1., 1., 1., 1., 1.,\n",
       "         1., 1., 1., 1.],\n",
       "        [1., 1., 1., 1., 1., 1., 1., 1., 1., 1., 1., 1., 1., 1., 1., 1.,\n",
       "         1., 1., 1., 1.],\n",
       "        [1., 1., 1., 1., 1., 1., 1., 1., 1., 1., 1., 1., 1., 1., 1., 1.,\n",
       "         1., 1., 1., 1.],\n",
       "        [1., 1., 1., 1., 1., 1., 1., 1., 1., 1., 1., 1., 1., 1., 1., 1.,\n",
       "         1., 1., 1., 1.],\n",
       "        [1., 1., 1., 1., 1., 1., 1., 1., 1., 1., 1., 1., 1., 1., 1., 1.,\n",
       "         1., 1., 1., 1.],\n",
       "        [1., 1., 1., 1., 1., 1., 1., 1., 1., 1., 1., 1., 1., 1., 1., 1.,\n",
       "         1., 1., 1., 1.],\n",
       "        [1., 1., 1., 1., 1., 1., 1., 1., 1., 1., 1., 1., 1., 1., 1., 1.,\n",
       "         1., 1., 1., 1.],\n",
       "        [1., 1., 1., 1., 1., 1., 1., 1., 1., 1., 1., 1., 1., 1., 1., 1.,\n",
       "         1., 1., 1., 1.],\n",
       "        [1., 1., 1., 1., 1., 1., 1., 1., 1., 1., 1., 1., 1., 1., 1., 1.,\n",
       "         1., 1., 1., 1.],\n",
       "        [1., 1., 1., 1., 1., 1., 1., 1., 1., 1., 1., 1., 1., 1., 1., 1.,\n",
       "         1., 1., 1., 1.],\n",
       "        [1., 1., 1., 1., 1., 1., 1., 1., 1., 1., 1., 1., 1., 1., 1., 1.,\n",
       "         1., 1., 1., 1.],\n",
       "        [1., 1., 1., 1., 1., 1., 1., 1., 1., 1., 1., 1., 1., 1., 1., 1.,\n",
       "         1., 1., 1., 1.],\n",
       "        [1., 1., 1., 1., 1., 1., 1., 1., 1., 1., 1., 1., 1., 1., 1., 1.,\n",
       "         1., 1., 1., 1.],\n",
       "        [1., 1., 1., 1., 1., 1., 1., 1., 1., 1., 1., 1., 1., 1., 1., 1.,\n",
       "         1., 1., 1., 1.],\n",
       "        [1., 1., 1., 1., 1., 1., 1., 1., 1., 1., 1., 1., 1., 1., 1., 1.,\n",
       "         1., 1., 1., 1.],\n",
       "        [1., 1., 1., 1., 1., 1., 1., 1., 1., 1., 1., 1., 1., 1., 1., 1.,\n",
       "         1., 1., 1., 1.],\n",
       "        [1., 1., 1., 1., 1., 1., 1., 1., 1., 1., 1., 1., 1., 1., 1., 1.,\n",
       "         1., 1., 1., 1.],\n",
       "        [1., 1., 1., 1., 1., 1., 1., 1., 1., 1., 1., 1., 1., 1., 1., 1.,\n",
       "         1., 1., 1., 1.]])]"
      ]
     },
     "execution_count": 30,
     "metadata": {},
     "output_type": "execute_result"
    }
   ],
   "source": [
    "all_matrices_for_cmap"
   ]
  },
  {
   "cell_type": "code",
   "execution_count": 31,
   "id": "e5194195",
   "metadata": {},
   "outputs": [
    {
     "data": {
      "text/html": [
       "<div>\n",
       "<style scoped>\n",
       "    .dataframe tbody tr th:only-of-type {\n",
       "        vertical-align: middle;\n",
       "    }\n",
       "\n",
       "    .dataframe tbody tr th {\n",
       "        vertical-align: top;\n",
       "    }\n",
       "\n",
       "    .dataframe thead th {\n",
       "        text-align: right;\n",
       "    }\n",
       "</style>\n",
       "<table border=\"1\" class=\"dataframe\">\n",
       "  <thead>\n",
       "    <tr style=\"text-align: right;\">\n",
       "      <th></th>\n",
       "      <th>m</th>\n",
       "      <th>a1</th>\n",
       "      <th>q1</th>\n",
       "      <th>T</th>\n",
       "      <th>SM_control</th>\n",
       "      <th>SM_treatment</th>\n",
       "      <th>DM_control</th>\n",
       "      <th>DM_treatment</th>\n",
       "    </tr>\n",
       "  </thead>\n",
       "  <tbody>\n",
       "    <tr>\n",
       "      <th>0</th>\n",
       "      <td>4489.473684</td>\n",
       "      <td>7.815789</td>\n",
       "      <td>0.999995</td>\n",
       "      <td>0.000000</td>\n",
       "      <td>6.755016e+06</td>\n",
       "      <td>6.755016e+06</td>\n",
       "      <td>1070.950540</td>\n",
       "      <td>1070.950540</td>\n",
       "    </tr>\n",
       "    <tr>\n",
       "      <th>1</th>\n",
       "      <td>4489.473684</td>\n",
       "      <td>7.815789</td>\n",
       "      <td>0.999995</td>\n",
       "      <td>0.736842</td>\n",
       "      <td>6.755016e+06</td>\n",
       "      <td>6.755016e+06</td>\n",
       "      <td>1070.950540</td>\n",
       "      <td>1070.950540</td>\n",
       "    </tr>\n",
       "    <tr>\n",
       "      <th>2</th>\n",
       "      <td>4489.473684</td>\n",
       "      <td>7.815789</td>\n",
       "      <td>0.999995</td>\n",
       "      <td>1.473684</td>\n",
       "      <td>6.755016e+06</td>\n",
       "      <td>6.755016e+06</td>\n",
       "      <td>1070.950540</td>\n",
       "      <td>1070.950540</td>\n",
       "    </tr>\n",
       "    <tr>\n",
       "      <th>3</th>\n",
       "      <td>4489.473684</td>\n",
       "      <td>7.815789</td>\n",
       "      <td>0.999995</td>\n",
       "      <td>2.210526</td>\n",
       "      <td>6.755016e+06</td>\n",
       "      <td>6.755016e+06</td>\n",
       "      <td>1070.950540</td>\n",
       "      <td>1070.950540</td>\n",
       "    </tr>\n",
       "    <tr>\n",
       "      <th>4</th>\n",
       "      <td>4489.473684</td>\n",
       "      <td>7.815789</td>\n",
       "      <td>0.999995</td>\n",
       "      <td>2.947368</td>\n",
       "      <td>6.755016e+06</td>\n",
       "      <td>6.755016e+06</td>\n",
       "      <td>1070.950540</td>\n",
       "      <td>1070.950540</td>\n",
       "    </tr>\n",
       "    <tr>\n",
       "      <th>...</th>\n",
       "      <td>...</td>\n",
       "      <td>...</td>\n",
       "      <td>...</td>\n",
       "      <td>...</td>\n",
       "      <td>...</td>\n",
       "      <td>...</td>\n",
       "      <td>...</td>\n",
       "      <td>...</td>\n",
       "    </tr>\n",
       "    <tr>\n",
       "      <th>1166881</th>\n",
       "      <td>25415.789474</td>\n",
       "      <td>8.047368</td>\n",
       "      <td>0.999985</td>\n",
       "      <td>11.789474</td>\n",
       "      <td>2.834275e+04</td>\n",
       "      <td>2.834275e+04</td>\n",
       "      <td>3.417724</td>\n",
       "      <td>3.417724</td>\n",
       "    </tr>\n",
       "    <tr>\n",
       "      <th>1166882</th>\n",
       "      <td>25415.789474</td>\n",
       "      <td>8.047368</td>\n",
       "      <td>0.999985</td>\n",
       "      <td>12.526316</td>\n",
       "      <td>2.834389e+04</td>\n",
       "      <td>2.834389e+04</td>\n",
       "      <td>3.418142</td>\n",
       "      <td>3.418142</td>\n",
       "    </tr>\n",
       "    <tr>\n",
       "      <th>1166883</th>\n",
       "      <td>25415.789474</td>\n",
       "      <td>8.047368</td>\n",
       "      <td>0.999985</td>\n",
       "      <td>13.263158</td>\n",
       "      <td>2.834433e+04</td>\n",
       "      <td>2.834433e+04</td>\n",
       "      <td>3.418316</td>\n",
       "      <td>3.418316</td>\n",
       "    </tr>\n",
       "    <tr>\n",
       "      <th>1166884</th>\n",
       "      <td>25415.789474</td>\n",
       "      <td>8.047368</td>\n",
       "      <td>0.999985</td>\n",
       "      <td>14.000000</td>\n",
       "      <td>2.834449e+04</td>\n",
       "      <td>2.834449e+04</td>\n",
       "      <td>3.418389</td>\n",
       "      <td>3.418389</td>\n",
       "    </tr>\n",
       "    <tr>\n",
       "      <th>1166885</th>\n",
       "      <td>25415.789474</td>\n",
       "      <td>8.047368</td>\n",
       "      <td>0.999985</td>\n",
       "      <td>5.000000</td>\n",
       "      <td>1.772293e+04</td>\n",
       "      <td>1.772293e+04</td>\n",
       "      <td>1.986149</td>\n",
       "      <td>1.986149</td>\n",
       "    </tr>\n",
       "  </tbody>\n",
       "</table>\n",
       "<p>1166886 rows × 8 columns</p>\n",
       "</div>"
      ],
      "text/plain": [
       "                    m        a1        q1          T    SM_control  \\\n",
       "0         4489.473684  7.815789  0.999995   0.000000  6.755016e+06   \n",
       "1         4489.473684  7.815789  0.999995   0.736842  6.755016e+06   \n",
       "2         4489.473684  7.815789  0.999995   1.473684  6.755016e+06   \n",
       "3         4489.473684  7.815789  0.999995   2.210526  6.755016e+06   \n",
       "4         4489.473684  7.815789  0.999995   2.947368  6.755016e+06   \n",
       "...               ...       ...       ...        ...           ...   \n",
       "1166881  25415.789474  8.047368  0.999985  11.789474  2.834275e+04   \n",
       "1166882  25415.789474  8.047368  0.999985  12.526316  2.834389e+04   \n",
       "1166883  25415.789474  8.047368  0.999985  13.263158  2.834433e+04   \n",
       "1166884  25415.789474  8.047368  0.999985  14.000000  2.834449e+04   \n",
       "1166885  25415.789474  8.047368  0.999985   5.000000  1.772293e+04   \n",
       "\n",
       "         SM_treatment   DM_control  DM_treatment  \n",
       "0        6.755016e+06  1070.950540   1070.950540  \n",
       "1        6.755016e+06  1070.950540   1070.950540  \n",
       "2        6.755016e+06  1070.950540   1070.950540  \n",
       "3        6.755016e+06  1070.950540   1070.950540  \n",
       "4        6.755016e+06  1070.950540   1070.950540  \n",
       "...               ...          ...           ...  \n",
       "1166881  2.834275e+04     3.417724      3.417724  \n",
       "1166882  2.834389e+04     3.418142      3.418142  \n",
       "1166883  2.834433e+04     3.418316      3.418316  \n",
       "1166884  2.834449e+04     3.418389      3.418389  \n",
       "1166885  1.772293e+04     1.986149      1.986149  \n",
       "\n",
       "[1166886 rows x 8 columns]"
      ]
     },
     "execution_count": 31,
     "metadata": {},
     "output_type": "execute_result"
    }
   ],
   "source": [
    "df_all_results"
   ]
  },
  {
   "cell_type": "code",
   "execution_count": 1,
   "id": "da2f8511",
   "metadata": {},
   "outputs": [
    {
     "data": {
      "text/plain": [
       "0.2699"
      ]
     },
     "execution_count": 1,
     "metadata": {},
     "output_type": "execute_result"
    }
   ],
   "source": [
    "(0.47**2)+(0.21**2)+(0.07**2)"
   ]
  },
  {
   "cell_type": "code",
   "execution_count": 4,
   "id": "9582dc42",
   "metadata": {},
   "outputs": [
    {
     "data": {
      "text/plain": [
       "2.222222222222222"
      ]
     },
     "execution_count": 4,
     "metadata": {},
     "output_type": "execute_result"
    }
   ],
   "source": [
    "(0.5/9)/(0.5/20)"
   ]
  },
  {
   "cell_type": "code",
   "execution_count": 144,
   "id": "6c306a29",
   "metadata": {},
   "outputs": [
    {
     "data": {
      "text/plain": [
       "59.64987777777775"
      ]
     },
     "execution_count": 144,
     "metadata": {},
     "output_type": "execute_result"
    }
   ],
   "source": [
    "((1/3)*13.67 + (1/3)*18.17 + (1/3)*21.33 + (-1/2)*(8.67) + (-1/2)*11.33)**2"
   ]
  },
  {
   "cell_type": "code",
   "execution_count": 145,
   "id": "0e4cae19",
   "metadata": {},
   "outputs": [
    {
     "data": {
      "text/plain": [
       "0.13888888888888887"
      ]
     },
     "execution_count": 145,
     "metadata": {},
     "output_type": "execute_result"
    }
   ],
   "source": [
    "(1/6)*(3*(1/3)**2 + 2*(-0.5)**2)"
   ]
  },
  {
   "cell_type": "code",
   "execution_count": 146,
   "id": "6b06e023",
   "metadata": {},
   "outputs": [
    {
     "data": {
      "text/plain": [
       "429.13669064748194"
      ]
     },
     "execution_count": 146,
     "metadata": {},
     "output_type": "execute_result"
    }
   ],
   "source": [
    "59.65/0.139"
   ]
  },
  {
   "cell_type": "code",
   "execution_count": 148,
   "id": "c78a2d1b",
   "metadata": {},
   "outputs": [
    {
     "data": {
      "text/plain": [
       "29.26809999999996"
      ]
     },
     "execution_count": 148,
     "metadata": {},
     "output_type": "execute_result"
    }
   ],
   "source": [
    "((-1/2)*13.67+(-1/2)*18.17+21.33)**2"
   ]
  },
  {
   "cell_type": "code",
   "execution_count": 149,
   "id": "df9b1b3a",
   "metadata": {},
   "outputs": [
    {
     "data": {
      "text/plain": [
       "0.25"
      ]
     },
     "execution_count": 149,
     "metadata": {},
     "output_type": "execute_result"
    }
   ],
   "source": [
    "(1/6)*(2*(1/2)**2+1)"
   ]
  },
  {
   "cell_type": "code",
   "execution_count": 150,
   "id": "43742e82",
   "metadata": {},
   "outputs": [
    {
     "data": {
      "text/plain": [
       "117.072"
      ]
     },
     "execution_count": 150,
     "metadata": {},
     "output_type": "execute_result"
    }
   ],
   "source": [
    "29.268/0.25"
   ]
  },
  {
   "cell_type": "code",
   "execution_count": 151,
   "id": "7008547a",
   "metadata": {},
   "outputs": [
    {
     "data": {
      "text/plain": [
       "7.0756000000000006"
      ]
     },
     "execution_count": 151,
     "metadata": {},
     "output_type": "execute_result"
    }
   ],
   "source": [
    "(-8.67+11.33)**2"
   ]
  },
  {
   "cell_type": "code",
   "execution_count": 152,
   "id": "26e844ae",
   "metadata": {},
   "outputs": [
    {
     "data": {
      "text/plain": [
       "0.3333333333333333"
      ]
     },
     "execution_count": 152,
     "metadata": {},
     "output_type": "execute_result"
    }
   ],
   "source": [
    "(1/6)*(2)"
   ]
  },
  {
   "cell_type": "code",
   "execution_count": 153,
   "id": "a2bd2e68",
   "metadata": {},
   "outputs": [
    {
     "data": {
      "text/plain": [
       "21.2268"
      ]
     },
     "execution_count": 153,
     "metadata": {},
     "output_type": "execute_result"
    }
   ],
   "source": [
    "7.0756/(1/3)"
   ]
  },
  {
   "cell_type": "code",
   "execution_count": 154,
   "id": "c3cafa1b",
   "metadata": {},
   "outputs": [
    {
     "data": {
      "text/plain": [
       "48.29014144733141"
      ]
     },
     "execution_count": 154,
     "metadata": {},
     "output_type": "execute_result"
    }
   ],
   "source": [
    "429.14/8.8867"
   ]
  },
  {
   "cell_type": "code",
   "execution_count": 155,
   "id": "20c8273a",
   "metadata": {},
   "outputs": [
    {
     "data": {
      "text/plain": [
       "13.173844059099554"
      ]
     },
     "execution_count": 155,
     "metadata": {},
     "output_type": "execute_result"
    }
   ],
   "source": [
    "117.072/8.8867"
   ]
  },
  {
   "cell_type": "code",
   "execution_count": 156,
   "id": "bcf4a828",
   "metadata": {},
   "outputs": [
    {
     "data": {
      "text/plain": [
       "2.3886031935364085"
      ]
     },
     "execution_count": 156,
     "metadata": {},
     "output_type": "execute_result"
    }
   ],
   "source": [
    "21.2268/8.8867"
   ]
  },
  {
   "cell_type": "code",
   "execution_count": 157,
   "id": "ae071954",
   "metadata": {},
   "outputs": [
    {
     "data": {
      "text/plain": [
       "11.0"
      ]
     },
     "execution_count": 157,
     "metadata": {},
     "output_type": "execute_result"
    }
   ],
   "source": [
    "(1/3)*12+(1/3)*11+(1/3)*10"
   ]
  },
  {
   "cell_type": "code",
   "execution_count": 158,
   "id": "ffea3ffb",
   "metadata": {},
   "outputs": [
    {
     "data": {
      "text/plain": [
       "30"
      ]
     },
     "execution_count": 158,
     "metadata": {},
     "output_type": "execute_result"
    }
   ],
   "source": [
    "30*(12-11)**2"
   ]
  },
  {
   "cell_type": "code",
   "execution_count": 159,
   "id": "fc5fa494",
   "metadata": {},
   "outputs": [
    {
     "data": {
      "text/plain": [
       "21.008390804597703"
      ]
     },
     "execution_count": 159,
     "metadata": {},
     "output_type": "execute_result"
    }
   ],
   "source": [
    "1827.73/87"
   ]
  },
  {
   "cell_type": "code",
   "execution_count": 161,
   "id": "635c9ffe",
   "metadata": {},
   "outputs": [
    {
     "data": {
      "text/plain": [
       "0.8451542547285166"
      ]
     },
     "execution_count": 161,
     "metadata": {},
     "output_type": "execute_result"
    }
   ],
   "source": [
    "(11-10)/np.sqrt(21*2/30)"
   ]
  },
  {
   "cell_type": "code",
   "execution_count": null,
   "id": "71c787d2",
   "metadata": {},
   "outputs": [],
   "source": []
  }
 ],
 "metadata": {
  "kernelspec": {
   "display_name": "Python 3",
   "language": "python",
   "name": "python3"
  },
  "language_info": {
   "codemirror_mode": {
    "name": "ipython",
    "version": 3
   },
   "file_extension": ".py",
   "mimetype": "text/x-python",
   "name": "python",
   "nbconvert_exporter": "python",
   "pygments_lexer": "ipython3",
   "version": "3.8.8"
  }
 },
 "nbformat": 4,
 "nbformat_minor": 5
}
