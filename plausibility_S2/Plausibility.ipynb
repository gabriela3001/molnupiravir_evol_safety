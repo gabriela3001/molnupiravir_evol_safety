{
 "cells": [
  {
   "cell_type": "code",
   "execution_count": 1,
   "id": "c5cbb79d",
   "metadata": {},
   "outputs": [],
   "source": [
    "import numpy as np\n",
    "import matplotlib.pyplot as plt\n",
    "import pandas as pd\n",
    "from all_formulas import *\n",
    "from sklearn.model_selection import ParameterGrid"
   ]
  },
  {
   "cell_type": "markdown",
   "id": "739b8df9",
   "metadata": {},
   "source": [
    "### Time series of model"
   ]
  },
  {
   "cell_type": "code",
   "execution_count": 2,
   "id": "231edec7",
   "metadata": {},
   "outputs": [],
   "source": [
    "b = 7.61\n",
    "q0 = 1-1e-6\n",
    "m = 20000\n",
    "n = 1\n",
    "a0 = 3\n",
    "a1 = 7.7\n",
    "tim = 5\n",
    "init_pop = [1,0]\n",
    "T = 5\n",
    "q1 = 1-3e-6\n",
    "ttr = 100"
   ]
  },
  {
   "cell_type": "code",
   "execution_count": 3,
   "id": "ae160323",
   "metadata": {},
   "outputs": [
    {
     "data": {
      "text/plain": [
       "0.7666666666666666"
      ]
     },
     "execution_count": 3,
     "metadata": {},
     "output_type": "execute_result"
    }
   ],
   "source": [
    "2.3/3"
   ]
  },
  {
   "cell_type": "code",
   "execution_count": 4,
   "id": "e28203e6",
   "metadata": {},
   "outputs": [],
   "source": [
    "test_a1low = simulation(init_pop,b,a0,7.7,q0,q1,m,n,tim,ttr)\n",
    "test_a1inter1 = simulation(init_pop,b,a0,8.1,q0,q1,m,n,tim,ttr)\n",
    "test_a1inter2 = simulation(init_pop,b,a0,8.7,q0,q1,m,n,tim,ttr)\n",
    "test_a1high = simulation(init_pop,b,a0,10,q0,q1,m,n,tim,ttr)\n",
    "time_range = np.arange(0,30,0.001)"
   ]
  },
  {
   "cell_type": "markdown",
   "id": "6d9fddc5",
   "metadata": {},
   "source": [
    "### 1) Plausibility without treatment"
   ]
  },
  {
   "cell_type": "code",
   "execution_count": 5,
   "id": "88cddd5e",
   "metadata": {},
   "outputs": [],
   "source": [
    "data_simulated = pd.read_excel('simulated_Kimetal.xlsx')\n",
    "data_real = pd.read_excel('real_data_Kimetal.xlsx')\n",
    "data_neant = pd.read_csv('neant_dataset.csv', sep = ';')"
   ]
  },
  {
   "cell_type": "code",
   "execution_count": 6,
   "id": "5e0845c5",
   "metadata": {},
   "outputs": [
    {
     "data": {
      "text/html": [
       "<div>\n",
       "<style scoped>\n",
       "    .dataframe tbody tr th:only-of-type {\n",
       "        vertical-align: middle;\n",
       "    }\n",
       "\n",
       "    .dataframe tbody tr th {\n",
       "        vertical-align: top;\n",
       "    }\n",
       "\n",
       "    .dataframe thead th {\n",
       "        text-align: right;\n",
       "    }\n",
       "</style>\n",
       "<table border=\"1\" class=\"dataframe\">\n",
       "  <thead>\n",
       "    <tr style=\"text-align: right;\">\n",
       "      <th></th>\n",
       "      <th>ID</th>\n",
       "      <th>time_monolix</th>\n",
       "      <th>y</th>\n",
       "      <th>cens</th>\n",
       "      <th>type</th>\n",
       "      <th>age_cat_reg</th>\n",
       "      <th>sex</th>\n",
       "      <th>age_cat_cov</th>\n",
       "      <th>delai_monolix</th>\n",
       "      <th>pulm,</th>\n",
       "    </tr>\n",
       "  </thead>\n",
       "  <tbody>\n",
       "    <tr>\n",
       "      <th>0</th>\n",
       "      <td>11</td>\n",
       "      <td>19</td>\n",
       "      <td>8,57601</td>\n",
       "      <td>0</td>\n",
       "      <td>1</td>\n",
       "      <td>0</td>\n",
       "      <td>0</td>\n",
       "      <td>1</td>\n",
       "      <td>19</td>\n",
       "      <td>0</td>\n",
       "    </tr>\n",
       "    <tr>\n",
       "      <th>1</th>\n",
       "      <td>11</td>\n",
       "      <td>20</td>\n",
       "      <td>6,40197</td>\n",
       "      <td>0</td>\n",
       "      <td>1</td>\n",
       "      <td>0</td>\n",
       "      <td>0</td>\n",
       "      <td>1</td>\n",
       "      <td>19</td>\n",
       "      <td>0</td>\n",
       "    </tr>\n",
       "    <tr>\n",
       "      <th>2</th>\n",
       "      <td>11</td>\n",
       "      <td>21</td>\n",
       "      <td>5,91489</td>\n",
       "      <td>0</td>\n",
       "      <td>1</td>\n",
       "      <td>0</td>\n",
       "      <td>0</td>\n",
       "      <td>1</td>\n",
       "      <td>19</td>\n",
       "      <td>0</td>\n",
       "    </tr>\n",
       "    <tr>\n",
       "      <th>3</th>\n",
       "      <td>11</td>\n",
       "      <td>22</td>\n",
       "      <td>6,22674</td>\n",
       "      <td>0</td>\n",
       "      <td>1</td>\n",
       "      <td>0</td>\n",
       "      <td>0</td>\n",
       "      <td>1</td>\n",
       "      <td>19</td>\n",
       "      <td>0</td>\n",
       "    </tr>\n",
       "    <tr>\n",
       "      <th>4</th>\n",
       "      <td>11</td>\n",
       "      <td>23</td>\n",
       "      <td>2,751</td>\n",
       "      <td>1</td>\n",
       "      <td>1</td>\n",
       "      <td>0</td>\n",
       "      <td>0</td>\n",
       "      <td>1</td>\n",
       "      <td>19</td>\n",
       "      <td>0</td>\n",
       "    </tr>\n",
       "    <tr>\n",
       "      <th>...</th>\n",
       "      <td>...</td>\n",
       "      <td>...</td>\n",
       "      <td>...</td>\n",
       "      <td>...</td>\n",
       "      <td>...</td>\n",
       "      <td>...</td>\n",
       "      <td>...</td>\n",
       "      <td>...</td>\n",
       "      <td>...</td>\n",
       "      <td>...</td>\n",
       "    </tr>\n",
       "    <tr>\n",
       "      <th>2529</th>\n",
       "      <td>1721</td>\n",
       "      <td>30</td>\n",
       "      <td>0</td>\n",
       "      <td>0</td>\n",
       "      <td>2</td>\n",
       "      <td>1</td>\n",
       "      <td>0</td>\n",
       "      <td>2</td>\n",
       "      <td>21</td>\n",
       "      <td>0,</td>\n",
       "    </tr>\n",
       "    <tr>\n",
       "      <th>2530</th>\n",
       "      <td>1721</td>\n",
       "      <td>0</td>\n",
       "      <td>0</td>\n",
       "      <td>0</td>\n",
       "      <td>2</td>\n",
       "      <td>1</td>\n",
       "      <td>0</td>\n",
       "      <td>2</td>\n",
       "      <td>21</td>\n",
       "      <td>0,</td>\n",
       "    </tr>\n",
       "    <tr>\n",
       "      <th>2531</th>\n",
       "      <td>1722</td>\n",
       "      <td>19</td>\n",
       "      <td>2,751</td>\n",
       "      <td>1</td>\n",
       "      <td>1</td>\n",
       "      <td>0</td>\n",
       "      <td>0</td>\n",
       "      <td>1</td>\n",
       "      <td>18</td>\n",
       "      <td>0</td>\n",
       "    </tr>\n",
       "    <tr>\n",
       "      <th>2532</th>\n",
       "      <td>1722</td>\n",
       "      <td>23</td>\n",
       "      <td>0</td>\n",
       "      <td>0</td>\n",
       "      <td>2</td>\n",
       "      <td>0</td>\n",
       "      <td>0</td>\n",
       "      <td>1</td>\n",
       "      <td>18</td>\n",
       "      <td>0,</td>\n",
       "    </tr>\n",
       "    <tr>\n",
       "      <th>2533</th>\n",
       "      <td>1722</td>\n",
       "      <td>0</td>\n",
       "      <td>0</td>\n",
       "      <td>0</td>\n",
       "      <td>2</td>\n",
       "      <td>0</td>\n",
       "      <td>0</td>\n",
       "      <td>1</td>\n",
       "      <td>18</td>\n",
       "      <td>0,</td>\n",
       "    </tr>\n",
       "  </tbody>\n",
       "</table>\n",
       "<p>2534 rows × 10 columns</p>\n",
       "</div>"
      ],
      "text/plain": [
       "        ID time_monolix        y  cens  type  age_cat_reg  sex  age_cat_cov  \\\n",
       "0       11           19  8,57601     0     1            0    0            1   \n",
       "1       11           20  6,40197     0     1            0    0            1   \n",
       "2       11           21  5,91489     0     1            0    0            1   \n",
       "3       11           22  6,22674     0     1            0    0            1   \n",
       "4       11           23    2,751     1     1            0    0            1   \n",
       "...    ...          ...      ...   ...   ...          ...  ...          ...   \n",
       "2529  1721           30        0     0     2            1    0            2   \n",
       "2530  1721            0        0     0     2            1    0            2   \n",
       "2531  1722           19    2,751     1     1            0    0            1   \n",
       "2532  1722           23        0     0     2            0    0            1   \n",
       "2533  1722            0        0     0     2            0    0            1   \n",
       "\n",
       "      delai_monolix pulm,  \n",
       "0                19     0  \n",
       "1                19     0  \n",
       "2                19     0  \n",
       "3                19     0  \n",
       "4                19     0  \n",
       "...             ...   ...  \n",
       "2529             21    0,  \n",
       "2530             21    0,  \n",
       "2531             18     0  \n",
       "2532             18    0,  \n",
       "2533             18    0,  \n",
       "\n",
       "[2534 rows x 10 columns]"
      ]
     },
     "execution_count": 6,
     "metadata": {},
     "output_type": "execute_result"
    }
   ],
   "source": [
    "data_neant"
   ]
  },
  {
   "cell_type": "code",
   "execution_count": 7,
   "id": "699f68fc",
   "metadata": {},
   "outputs": [],
   "source": [
    "patients = data_simulated.columns[1:]"
   ]
  },
  {
   "cell_type": "code",
   "execution_count": 11,
   "id": "9fd7d451",
   "metadata": {},
   "outputs": [
    {
     "ename": "NameError",
     "evalue": "name 'test' is not defined",
     "output_type": "error",
     "traceback": [
      "\u001b[1;31m---------------------------------------------------------------------------\u001b[0m",
      "\u001b[1;31mNameError\u001b[0m                                 Traceback (most recent call last)",
      "\u001b[1;32m<ipython-input-11-eb3ca112a1c6>\u001b[0m in \u001b[0;36m<module>\u001b[1;34m\u001b[0m\n\u001b[0;32m      1\u001b[0m \u001b[1;32mfor\u001b[0m \u001b[0mpatient\u001b[0m \u001b[1;32min\u001b[0m \u001b[0mpatients\u001b[0m\u001b[1;33m:\u001b[0m\u001b[1;33m\u001b[0m\u001b[1;33m\u001b[0m\u001b[0m\n\u001b[0;32m      2\u001b[0m     \u001b[0mplt\u001b[0m\u001b[1;33m.\u001b[0m\u001b[0mplot\u001b[0m\u001b[1;33m(\u001b[0m\u001b[0mdata_simulated\u001b[0m\u001b[1;33m[\u001b[0m\u001b[1;34m'Time'\u001b[0m\u001b[1;33m]\u001b[0m\u001b[1;33m+\u001b[0m\u001b[1;36m3\u001b[0m\u001b[1;33m,\u001b[0m \u001b[0mdata_simulated\u001b[0m\u001b[1;33m[\u001b[0m\u001b[0mpatient\u001b[0m\u001b[1;33m]\u001b[0m\u001b[1;33m+\u001b[0m\u001b[1;36m3\u001b[0m\u001b[1;33m,\u001b[0m \u001b[0mc\u001b[0m \u001b[1;33m=\u001b[0m \u001b[1;34m'grey'\u001b[0m\u001b[1;33m)\u001b[0m\u001b[1;33m\u001b[0m\u001b[1;33m\u001b[0m\u001b[0m\n\u001b[1;32m----> 3\u001b[1;33m     \u001b[0mplt\u001b[0m\u001b[1;33m.\u001b[0m\u001b[0mplot\u001b[0m\u001b[1;33m(\u001b[0m\u001b[0mtime_range\u001b[0m\u001b[1;33m,\u001b[0m\u001b[0mnp\u001b[0m\u001b[1;33m.\u001b[0m\u001b[0mlog10\u001b[0m\u001b[1;33m(\u001b[0m\u001b[0mtest\u001b[0m\u001b[1;33m[\u001b[0m\u001b[1;33m:\u001b[0m\u001b[1;33m,\u001b[0m\u001b[1;36m0\u001b[0m\u001b[1;33m]\u001b[0m\u001b[1;33m)\u001b[0m\u001b[1;33m,\u001b[0m \u001b[0mc\u001b[0m \u001b[1;33m=\u001b[0m \u001b[1;34m'red'\u001b[0m\u001b[1;33m)\u001b[0m\u001b[1;33m\u001b[0m\u001b[1;33m\u001b[0m\u001b[0m\n\u001b[0m\u001b[0;32m      4\u001b[0m     \u001b[0mplt\u001b[0m\u001b[1;33m.\u001b[0m\u001b[0mxlim\u001b[0m\u001b[1;33m(\u001b[0m\u001b[1;33m-\u001b[0m\u001b[1;36m15\u001b[0m\u001b[1;33m,\u001b[0m\u001b[1;36m30\u001b[0m\u001b[1;33m)\u001b[0m\u001b[1;33m\u001b[0m\u001b[1;33m\u001b[0m\u001b[0m\n\u001b[0;32m      5\u001b[0m     \u001b[0mplt\u001b[0m\u001b[1;33m.\u001b[0m\u001b[0mylim\u001b[0m\u001b[1;33m(\u001b[0m\u001b[1;36m2\u001b[0m\u001b[1;33m,\u001b[0m\u001b[1;36m11\u001b[0m\u001b[1;33m)\u001b[0m\u001b[1;33m\u001b[0m\u001b[1;33m\u001b[0m\u001b[0m\n",
      "\u001b[1;31mNameError\u001b[0m: name 'test' is not defined"
     ]
    },
    {
     "data": {
      "image/png": "[encoded data removed]",
      "text/plain": [
       "<Figure size 432x288 with 1 Axes>"
      ]
     },
     "metadata": {
      "needs_background": "light"
     },
     "output_type": "display_data"
    }
   ],
   "source": [
    "for patient in patients:\n",
    "    plt.plot(data_simulated['Time']+3, data_simulated[patient]+3, c = 'grey')\n",
    "    plt.plot(time_range,np.log10(test[:,0]), c = 'red')\n",
    "    plt.xlim(-15,30)\n",
    "    plt.ylim(2,11)"
   ]
  },
  {
   "cell_type": "code",
   "execution_count": 14,
   "id": "fc8428c2",
   "metadata": {},
   "outputs": [
    {
     "data": {
      "text/plain": [
       "array([0.000e+00, 1.000e-03, 2.000e-03, ..., 4.997e+00, 4.998e+00,\n",
       "       4.999e+00])"
      ]
     },
     "execution_count": 14,
     "metadata": {},
     "output_type": "execute_result"
    }
   ],
   "source": [
    "time_range"
   ]
  },
  {
   "cell_type": "code",
   "execution_count": 18,
   "id": "4eaf476b",
   "metadata": {},
   "outputs": [
    {
     "data": {
      "image/png": "[encoded data removed]",
      "text/plain": [
       "<Figure size 864x504 with 1 Axes>"
      ]
     },
     "metadata": {
      "needs_background": "light"
     },
     "output_type": "display_data"
    }
   ],
   "source": [
    "fig, ax = plt.subplots(figsize = (12,7))\n",
    "\n",
    "switch = True\n",
    "\n",
    "ax.plot(time_range-5,np.log10(test_a1low[:,0]), c = 'C0', label = 'Time series of virus load with $a_1$ = 7.7')\n",
    "ax.plot(time_range-5,np.log10(test_a1inter1[:,0]), c = 'C1', label = 'Time series of virus load with $a_1$ = 8.1')\n",
    "ax.plot(time_range-5,np.log10(test_a1inter2[:,0]), c = 'C2', label = 'Time series of virus load with $a_1$ = 8.7')\n",
    "ax.plot(time_range-5,np.log10(test_a1high[:,0]), c = 'C3', label = 'Time series of virus load with $a_1$ = 10')\n",
    "ax.plot(time_range[:5000]-5,np.log10(test_a1high[:,0][:5000]), c = 'k', label = 'Growth phase of infection')\n",
    "for patient in patients:\n",
    "    if switch:\n",
    "        label_string = 'Data points from patients'\n",
    "        switch = False\n",
    "    else:\n",
    "        label_string = '__nolabel__'\n",
    "    ax.scatter(data_real[data_real['ID'] == patient]['time'],data_real[data_real['ID'] == patient]['Viralload'], \n",
    "               c = 'grey', s = 2, label = label_string)\n",
    "ax.set_ylim(0,14)\n",
    "ax.tick_params(labelsize = 14)\n",
    "ax.set_xlabel('Days since symptom onset (days)', fontsize = 16)\n",
    "ax.set_ylabel('Total virus load (RNA copies/mL)', fontsize = 16)\n",
    "ax.set_yticks([0,2,4,6,8,10,12,14])\n",
    "ax.set_yticklabels(['1','$10^2$', '$10^4$', '$10^6$', '$10^8$', '$10^{10}$', '$10^{12}$', '$10^{14}$'])\n",
    "ax.legend(fontsize = 14)\n",
    "plt.savefig('plausibility_without_treatment_JUNE10.jpg', dpi = 400, bbox_inches = 'tight')"
   ]
  },
  {
   "cell_type": "markdown",
   "id": "5bc7c5d2",
   "metadata": {},
   "source": [
    "### 2) Plausibility with treatment"
   ]
  },
  {
   "cell_type": "code",
   "execution_count": 84,
   "id": "bd2e5913",
   "metadata": {},
   "outputs": [],
   "source": [
    "test_notreat = simulation(init_pop,b,a0,8,q0,q0,m,n,tim,ttr)\n",
    "test_withtreat = simulation(init_pop,b,a0,8,q0,q1,m,n,tim,2)"
   ]
  },
  {
   "cell_type": "code",
   "execution_count": 85,
   "id": "97a1b5e4",
   "metadata": {},
   "outputs": [
    {
     "data": {
      "image/png": "[encoded data removed]",
      "text/plain": [
       "<Figure size 432x288 with 1 Axes>"
      ]
     },
     "metadata": {
      "needs_background": "light"
     },
     "output_type": "display_data"
    }
   ],
   "source": [
    "plt.plot(test_notreat[:,0])\n",
    "plt.plot(test_withtreat[:,0])\n",
    "plt.yscale('log')"
   ]
  },
  {
   "cell_type": "code",
   "execution_count": 86,
   "id": "5e74c897",
   "metadata": {},
   "outputs": [
    {
     "data": {
      "text/plain": [
       "<matplotlib.lines.Line2D at 0x2645be21b50>"
      ]
     },
     "execution_count": 86,
     "metadata": {},
     "output_type": "execute_result"
    },
    {
     "data": {
      "image/png": "[encoded data removed]",
      "text/plain": [
       "<Figure size 432x288 with 1 Axes>"
      ]
     },
     "metadata": {
      "needs_background": "light"
     },
     "output_type": "display_data"
    }
   ],
   "source": [
    "plt.plot(time_range, np.log10(test_notreat[:,0])-np.log10(test_withtreat[:,0]))\n",
    "plt.axvline(8)\n",
    "plt.axvline(10)\n",
    "plt.axvline(12)"
   ]
  },
  {
   "cell_type": "code",
   "execution_count": 9,
   "id": "cd27404b",
   "metadata": {},
   "outputs": [],
   "source": [
    "ttr_range = [5]\n",
    "a1_range = [7.7,10]\n",
    "m_range = [10000,20000]"
   ]
  },
  {
   "cell_type": "code",
   "execution_count": 10,
   "id": "0c53ac54",
   "metadata": {},
   "outputs": [],
   "source": [
    "param_dict = {'m':m_range, 'a1':a1_range, 'ttr':ttr_range}\n",
    "param_grid = list(ParameterGrid(param_dict))"
   ]
  },
  {
   "cell_type": "code",
   "execution_count": 11,
   "id": "83de44a6",
   "metadata": {},
   "outputs": [
    {
     "name": "stdout",
     "output_type": "stream",
     "text": [
      "{'a1': 7.7, 'm': 10000, 'ttr': 5}\n",
      "Day 3 0.194386664858472\n",
      "Day 5 0.3239864147474414\n",
      "Day 7 0.453586164636409\n",
      "{'a1': 7.7, 'm': 20000, 'ttr': 5}\n",
      "Day 3 0.38108068229308323\n",
      "Day 5 0.6351514085368883\n",
      "Day 7 0.8892221347806917\n",
      "{'a1': 10, 'm': 10000, 'ttr': 5}\n",
      "Day 3 0.1944313851518107\n",
      "Day 5 0.32406095055738415\n",
      "Day 7 0.45369051596296184\n",
      "{'a1': 10, 'm': 20000, 'ttr': 5}\n",
      "Day 3 0.3811683544070359\n",
      "Day 5 0.6352975326236003\n",
      "Day 7 0.8894267108401706\n"
     ]
    }
   ],
   "source": [
    "for paramset in param_grid:\n",
    "    mval, a1val, ttrval = paramset['m'], paramset['a1'], paramset['ttr']\n",
    "    \n",
    "    notreat =  simulation(init_pop,b,a0,a1val,q0,q0,mval,n,tim,ttrval)\n",
    "    withtreat =  simulation(init_pop,b,a0,a1val,q0,q1,mval,n,tim,ttrval)\n",
    "    \n",
    "    difference_day3 = np.log10(notreat[:,0][3000+ttrval*1000])-np.log10(withtreat[:,0][3000+ttrval*1000])\n",
    "    difference_day5 = np.log10(notreat[:,0][5000+ttrval*1000])-np.log10(withtreat[:,0][5000+ttrval*1000])\n",
    "    difference_day7 = np.log10(notreat[:,0][7000+ttrval*1000])-np.log10(withtreat[:,0][7000+ttrval*1000])\n",
    "    \n",
    "    print(paramset)\n",
    "    print('Day 3', difference_day3)\n",
    "    print('Day 5', difference_day5)\n",
    "    print('Day 7', difference_day7)"
   ]
  },
  {
   "cell_type": "code",
   "execution_count": 20,
   "id": "c5fc1814",
   "metadata": {},
   "outputs": [
    {
     "name": "stdout",
     "output_type": "stream",
     "text": [
      "120\n"
     ]
    }
   ],
   "source": [
    "from math import comb\n",
    "print(comb(10,3))"
   ]
  },
  {
   "cell_type": "code",
   "execution_count": 32,
   "id": "1b98fefb",
   "metadata": {},
   "outputs": [
    {
     "data": {
      "text/plain": [
       "4.2"
      ]
     },
     "execution_count": 32,
     "metadata": {},
     "output_type": "execute_result"
    }
   ],
   "source": [
    "7*0.6"
   ]
  },
  {
   "cell_type": "code",
   "execution_count": 33,
   "id": "415a2726",
   "metadata": {},
   "outputs": [
    {
     "name": "stdout",
     "output_type": "stream",
     "text": [
      "0 0.0016384000000000006\n",
      "1 0.01720320000000001\n",
      "2 0.07741440000000002\n",
      "3 0.193536\n",
      "4 0.29030400000000006\n",
      "5 0.2612736\n",
      "6 0.13063679999999997\n",
      "7 0.027993599999999993\n"
     ]
    }
   ],
   "source": [
    "p = 0.6\n",
    "cumul = 0\n",
    "\n",
    "for n in range(8):\n",
    "    cumul = comb(7,n)*(p**n)*(1-p)**(7-n)\n",
    "    print(n, cumul)"
   ]
  },
  {
   "cell_type": "code",
   "execution_count": 28,
   "id": "b41b9a25",
   "metadata": {
    "scrolled": false
   },
   "outputs": [
    {
     "name": "stdout",
     "output_type": "stream",
     "text": [
      "0 1.0\n",
      "1 1.0\n",
      "2 1.0\n",
      "3 1.0\n",
      "4 1.0\n",
      "5 1.0\n",
      "6 1.0\n",
      "7 1.0\n",
      "8 1.0\n",
      "9 1.0\n",
      "10 1.0\n",
      "11 1.0\n",
      "12 1.0\n",
      "13 1.0\n",
      "14 1.0\n",
      "15 1.0\n",
      "16 1.0\n",
      "17 1.0\n",
      "18 1.0\n",
      "19 1.0\n",
      "20 1.0\n",
      "21 1.0\n",
      "22 1.0\n",
      "23 1.0\n",
      "24 1.0\n",
      "25 1.0\n",
      "26 1.0\n",
      "27 1.0\n",
      "28 1.0\n",
      "29 1.0\n",
      "30 1.0\n",
      "31 1.0\n",
      "32 1.0\n",
      "33 1.0\n",
      "34 1.0\n",
      "35 1.0\n",
      "36 1.0\n",
      "37 1.0\n",
      "38 1.0\n",
      "39 1.0\n",
      "40 1.0\n",
      "41 1.0\n",
      "42 1.0\n",
      "43 1.0\n",
      "44 1.0\n",
      "45 1.0\n",
      "46 1.0\n",
      "47 1.0\n",
      "48 1.0\n",
      "49 1.0\n",
      "50 1.0\n",
      "51 1.0\n",
      "52 1.0\n",
      "53 1.0\n",
      "54 1.0\n",
      "55 1.0\n",
      "56 1.0\n",
      "57 1.0\n",
      "58 1.0\n",
      "59 1.0\n",
      "60 1.0\n",
      "61 1.0\n",
      "62 1.0\n",
      "63 1.0\n",
      "64 1.0\n",
      "65 1.0\n",
      "66 1.0\n",
      "67 1.0\n",
      "68 1.0\n",
      "69 1.0\n",
      "70 1.0\n",
      "71 1.0\n",
      "72 1.0\n",
      "73 1.0\n",
      "74 1.0\n",
      "75 1.0\n",
      "76 1.0\n",
      "77 1.0\n",
      "78 1.0\n",
      "79 1.0\n",
      "80 1.0\n",
      "81 1.0\n",
      "82 1.0\n",
      "83 0.9999999999999999\n",
      "84 0.9999999999999998\n",
      "85 0.9999999999999993\n",
      "86 0.9999999999999978\n",
      "87 0.9999999999999932\n",
      "88 0.9999999999999795\n",
      "89 0.9999999999999389\n",
      "90 0.9999999999998225\n",
      "91 0.999999999999494\n",
      "92 0.9999999999985859\n",
      "93 0.9999999999961252\n",
      "94 0.9999999999895895\n",
      "95 0.9999999999725738\n",
      "96 0.9999999999291483\n",
      "97 0.99999999982051\n",
      "98 0.9999999995540876\n",
      "99 0.9999999989135971\n",
      "100 0.9999999974041747\n",
      "101 0.9999999939170601\n",
      "102 0.9999999860197712\n",
      "103 0.9999999684872788\n",
      "104 0.9999999303316303\n",
      "105 0.9999998489329133\n",
      "106 0.9999996787123259\n",
      "107 0.9999993297866359\n",
      "108 0.9999986287044625\n",
      "109 0.9999972479799375\n",
      "110 0.9999945827632029\n",
      "111 0.9999895404612724\n",
      "112 0.9999801911931099\n",
      "113 0.9999632025524369\n",
      "114 0.9999329508501857\n",
      "115 0.9998801638219098\n",
      "116 0.999789910138507\n",
      "117 0.9996387159338325\n",
      "118 0.9993905695131658\n",
      "119 0.9989915889936628\n",
      "120 0.9983631946754453\n",
      "121 0.9973937709338427\n",
      "122 0.9959290405264486\n",
      "123 0.9937617158585972\n",
      "124 0.9906214255468447\n",
      "125 0.9861664003579051\n",
      "126 0.979978865373267\n",
      "127 0.9715664162340475\n",
      "128 0.9603717248013882\n",
      "129 0.9457925917728087\n",
      "130 0.9272135427594652\n",
      "131 0.9040488251601311\n",
      "132 0.875794889300337\n",
      "133 0.8420884395026881\n",
      "134 0.8027642480720977\n",
      "135 0.7579055408105353\n",
      "136 0.7078792863889399\n",
      "137 0.6533494518855951\n",
      "138 0.5952633238276845\n",
      "139 0.5348091761606983\n",
      "140 0.47334745936592904\n",
      "141 0.4123216412718319\n",
      "142 0.3531581134012636\n",
      "143 0.29716652292235746\n",
      "144 0.2454520678272566\n",
      "145 0.19884961633925768\n",
      "146 0.15788627427788882\n",
      "147 0.1227748382252869\n",
      "148 0.09343622837052268\n",
      "149 0.06954527985344405\n",
      "150 0.050591794029895\n",
      "151 0.035947820435541455\n",
      "152 0.024932726262595684\n",
      "153 0.01686938935168114\n",
      "154 0.011127316096938955\n",
      "155 0.007151084724837942\n",
      "156 0.0044747751474621955\n",
      "157 0.0027246618781804344\n",
      "158 0.0016133030299656514\n",
      "159 0.0009283145574811025\n",
      "160 0.0005187485333080222\n",
      "161 0.0002813189540772365\n",
      "162 0.00014794801759576703\n",
      "163 7.539859202509991e-05\n",
      "164 3.720692287301208e-05\n",
      "165 1.7763891304700685e-05\n",
      "166 8.198544448778655e-06\n",
      "167 3.654527379493011e-06\n",
      "168 1.5718528894037576e-06\n",
      "169 6.51696901665666e-07\n",
      "170 2.6017955001567117e-07\n",
      "171 9.990928906411511e-08\n",
      "172 3.6857229046560747e-08\n",
      "173 1.304566110693628e-08\n",
      "174 4.424231314636984e-09\n",
      "175 1.4354689659157316e-09\n",
      "176 4.448753587737997e-10\n",
      "177 1.3146717048329037e-10\n",
      "178 3.69752006790236e-11\n",
      "179 9.876988116275243e-12\n",
      "180 2.5002222514558525e-12\n",
      "181 5.982991879704969e-13\n",
      "182 1.3500311979441904e-13\n",
      "183 2.864375403532904e-14\n",
      "184 5.773159728050814e-15\n",
      "185 1.1102230246251565e-15\n",
      "186 2.220446049250313e-16\n",
      "187 1.1102230246251565e-16\n",
      "188 1.1102230246251565e-16\n",
      "189 1.1102230246251565e-16\n",
      "190 1.1102230246251565e-16\n",
      "191 1.1102230246251565e-16\n",
      "192 1.1102230246251565e-16\n",
      "193 1.1102230246251565e-16\n",
      "194 1.1102230246251565e-16\n",
      "195 1.1102230246251565e-16\n",
      "196 1.1102230246251565e-16\n",
      "197 1.1102230246251565e-16\n",
      "198 1.1102230246251565e-16\n",
      "199 1.1102230246251565e-16\n"
     ]
    }
   ],
   "source": [
    "p = 0.7\n",
    "cumul = 0\n",
    "\n",
    "for n in range(200):\n",
    "    cumul += comb(200,n)*(p**n)*(1-p)**(200-n)\n",
    "    print(n, 1-cumul)"
   ]
  },
  {
   "cell_type": "code",
   "execution_count": null,
   "id": "3622553c",
   "metadata": {},
   "outputs": [],
   "source": []
  }
 ],
 "metadata": {
  "kernelspec": {
   "display_name": "Python 3",
   "language": "python",
   "name": "python3"
  },
  "language_info": {
   "codemirror_mode": {
    "name": "ipython",
    "version": 3
   },
   "file_extension": ".py",
   "mimetype": "text/x-python",
   "name": "python",
   "nbconvert_exporter": "python",
   "pygments_lexer": "ipython3",
   "version": "3.8.8"
  }
 },
 "nbformat": 4,
 "nbformat_minor": 5
}
