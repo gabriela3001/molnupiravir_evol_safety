{
 "cells": [
  {
   "cell_type": "code",
   "execution_count": 8,
   "id": "9dca0ab8",
   "metadata": {},
   "outputs": [],
   "source": [
    "import os \n",
    "import numpy as np\n",
    "import matplotlib.pyplot as plt\n",
    "import pickle"
   ]
  },
  {
   "cell_type": "code",
   "execution_count": 9,
   "id": "10377894",
   "metadata": {},
   "outputs": [],
   "source": [
    "files_largeb = [file for file in os.listdir('varying_b_a0_large/') if 'results' in file]\n",
    "files_smallb = [file for file in os.listdir('varying_b_a0_small/') if 'results' in file]"
   ]
  },
  {
   "cell_type": "code",
   "execution_count": 10,
   "id": "fc000dcb",
   "metadata": {},
   "outputs": [],
   "source": [
    "along_m = list(np.linspace(1500,29900,20))[::-1]\n",
    "along_ap_largeb = list(np.linspace(7.7,8.8,20)+1)\n",
    "along_ap_smallb = list(np.linspace(7.7,8.8,20)-1)"
   ]
  },
  {
   "cell_type": "code",
   "execution_count": 11,
   "id": "d04ed507",
   "metadata": {},
   "outputs": [],
   "source": [
    "with open('varying_b_a0_large/' + files_largeb[0], 'rb') as f:\n",
    "    test = pickle.load(f)"
   ]
  },
  {
   "cell_type": "code",
   "execution_count": 12,
   "id": "47f62ba7",
   "metadata": {},
   "outputs": [],
   "source": [
    "cmap_largeb = np.zeros((len(along_m), len(along_ap_largeb)))\n",
    "\n",
    "for file in files_largeb:\n",
    "    with open('varying_b_a0_large/' + file, 'rb') as f:\n",
    "        file_result = pickle.load(f)['results']\n",
    "    for n in range(len(file_result)):\n",
    "        apind = along_ap_largeb.index(file_result[n]['ap'])\n",
    "        mind = along_m.index(file_result[n]['m'])\n",
    "\n",
    "        cmap_largeb[mind,apind] = file_result[n]['Y_treatment'] / file_result[n]['Y_control']"
   ]
  },
  {
   "cell_type": "code",
   "execution_count": 14,
   "id": "4d004f7b",
   "metadata": {},
   "outputs": [],
   "source": [
    "cmap_smallb = np.zeros((len(along_m), len(along_ap_smallb)))\n",
    "\n",
    "for file in files_smallb:\n",
    "    with open('varying_b_a0_small/' + file, 'rb') as f:\n",
    "        file_result = pickle.load(f)['results']\n",
    "    for n in range(len(file_result)):\n",
    "        apind = along_ap_smallb.index(file_result[n]['ap'])\n",
    "        mind = along_m.index(file_result[n]['m'])\n",
    "\n",
    "        cmap_smallb[mind,apind] = file_result[n]['Y_treatment'] / file_result[n]['Y_control']"
   ]
  },
  {
   "cell_type": "code",
   "execution_count": 20,
   "id": "bd5c5808",
   "metadata": {},
   "outputs": [
    {
     "data": {
      "image/png": "[encoded data removed]",
      "text/plain": [
       "<Figure size 720x360 with 2 Axes>"
      ]
     },
     "metadata": {
      "needs_background": "light"
     },
     "output_type": "display_data"
    }
   ],
   "source": [
    "fig, ax = plt.subplots(1,2,figsize = (10,5))\n",
    "\n",
    "ax[0].imshow(cmap_smallb, vmin = 0, vmax = 2, cmap = 'seismic')\n",
    "ax[1].imshow(cmap_largeb, vmin = 0, vmax = 2, cmap = 'seismic')\n",
    "\n",
    "ax[0].set_xticks(calculate_ticks(param_ticks['ap_small'], param_ranges['ap_small'], [0,19]))\n",
    "ax[0].set_xticklabels(param_ticks['ap_small'])\n",
    "ax[1].set_xticks(calculate_ticks(param_ticks['ap_large'], param_ranges['ap_large'], [0,19]))\n",
    "ax[1].set_xticklabels(param_ticks['ap_large'])\n",
    "\n",
    "for i in range(2):\n",
    "    ax[i].set_yticks(19-calculate_ticks(param_ticks['m'], param_ranges['m'], [0,19]))\n",
    "    ax[i].set_yticklabels(param_ticks['m'])\n",
    "    ax[i].tick_params(labelsize = 12)\n",
    "    ax[i].set_xlabel('Clearance rate in clearance phase $a_1$ (per day)', fontsize = 13)\n",
    "    ax[i].set_ylabel('Number of lethal positions $m$', fontsize = 13)\n",
    "\n",
    "plt.tight_layout()\n",
    "plt.savefig('varying_b_a0_heatmap_JUNE26.jpg', dpi = 500, bbox_inches = 'tight')"
   ]
  },
  {
   "cell_type": "code",
   "execution_count": 18,
   "id": "b7615fb8",
   "metadata": {},
   "outputs": [],
   "source": [
    "def calculate_ticks(ticklabels, truerange, tickrange):\n",
    "    tick_pos = []\n",
    "    for l in ticklabels:\n",
    "        NewValue = (((l - truerange[0]) * (tickrange[1] - tickrange[0])) / (truerange[1] - truerange[0])) + tickrange[0]\n",
    "        tick_pos.append(NewValue)\n",
    "    return(np.array(tick_pos))"
   ]
  },
  {
   "cell_type": "code",
   "execution_count": 19,
   "id": "455a6d0b",
   "metadata": {},
   "outputs": [],
   "source": [
    "param_ticks = {'m':[1500,5000,10000,15000,20000,25000,29900],\n",
    "               'ap_small':[6.7,7.0,7.3,7.6,7.8],\n",
    "               'ap_large':[8.7,9.0,9.3,9.6,9.8]}\n",
    "param_ranges = {'m':[1500,29900],\n",
    "                'ap_small':[6.7,7.8],\n",
    "                'ap_large':[8.7,9.8]}"
   ]
  },
  {
   "cell_type": "code",
   "execution_count": null,
   "id": "3bb9e4b3",
   "metadata": {},
   "outputs": [],
   "source": []
  }
 ],
 "metadata": {
  "kernelspec": {
   "display_name": "Python 3",
   "language": "python",
   "name": "python3"
  },
  "language_info": {
   "codemirror_mode": {
    "name": "ipython",
    "version": 3
   },
   "file_extension": ".py",
   "mimetype": "text/x-python",
   "name": "python",
   "nbconvert_exporter": "python",
   "pygments_lexer": "ipython3",
   "version": "3.8.8"
  }
 },
 "nbformat": 4,
 "nbformat_minor": 5
}
