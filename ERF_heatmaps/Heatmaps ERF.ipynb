{
 "cells": [
  {
   "cell_type": "code",
   "execution_count": 15,
   "id": "ab395a40",
   "metadata": {},
   "outputs": [],
   "source": [
    "import os\n",
    "import pickle\n",
    "import pandas as pd\n",
    "import numpy as np\n",
    "from itertools import combinations\n",
    "import matplotlib.pyplot as plt\n",
    "from numpy import nan"
   ]
  },
  {
   "cell_type": "code",
   "execution_count": 16,
   "id": "ff4e60a7",
   "metadata": {},
   "outputs": [],
   "source": [
    "files = [x for x in os.listdir('heatmap_ERF/') if 'results' in x]"
   ]
  },
  {
   "cell_type": "code",
   "execution_count": 17,
   "id": "2c8f92b6",
   "metadata": {},
   "outputs": [],
   "source": [
    "all_results = []\n",
    "for file in files:\n",
    "    with open('heatmap_ERF/'+file, 'rb') as f:\n",
    "        result_file = pickle.load(f)\n",
    "        for r in result_file['results']:\n",
    "            all_results.append(r)\n",
    "            \n",
    "result_df = pd.DataFrame(all_results)"
   ]
  },
  {
   "cell_type": "code",
   "execution_count": 18,
   "id": "14911820",
   "metadata": {},
   "outputs": [],
   "source": [
    "with open('heatmap_ERF/paramgrid_newparams_a03.txt','rb') as f:\n",
    "    param_grid = pickle.load(f)"
   ]
  },
  {
   "cell_type": "code",
   "execution_count": 20,
   "id": "98ec4918",
   "metadata": {},
   "outputs": [
    {
     "data": {
      "text/plain": [
       "[]"
      ]
     },
     "execution_count": 20,
     "metadata": {},
     "output_type": "execute_result"
    }
   ],
   "source": [
    "all_results"
   ]
  },
  {
   "cell_type": "code",
   "execution_count": 11,
   "id": "11b7c4ca",
   "metadata": {},
   "outputs": [
    {
     "ename": "KeyError",
     "evalue": "'m'",
     "output_type": "error",
     "traceback": [
      "\u001b[1;31m---------------------------------------------------------------------------\u001b[0m",
      "\u001b[1;31mKeyError\u001b[0m                                  Traceback (most recent call last)",
      "\u001b[1;32m~\\Anaconda3\\lib\\site-packages\\pandas\\core\\indexes\\base.py\u001b[0m in \u001b[0;36mget_loc\u001b[1;34m(self, key, method, tolerance)\u001b[0m\n\u001b[0;32m   3079\u001b[0m             \u001b[1;32mtry\u001b[0m\u001b[1;33m:\u001b[0m\u001b[1;33m\u001b[0m\u001b[1;33m\u001b[0m\u001b[0m\n\u001b[1;32m-> 3080\u001b[1;33m                 \u001b[1;32mreturn\u001b[0m \u001b[0mself\u001b[0m\u001b[1;33m.\u001b[0m\u001b[0m_engine\u001b[0m\u001b[1;33m.\u001b[0m\u001b[0mget_loc\u001b[0m\u001b[1;33m(\u001b[0m\u001b[0mcasted_key\u001b[0m\u001b[1;33m)\u001b[0m\u001b[1;33m\u001b[0m\u001b[1;33m\u001b[0m\u001b[0m\n\u001b[0m\u001b[0;32m   3081\u001b[0m             \u001b[1;32mexcept\u001b[0m \u001b[0mKeyError\u001b[0m \u001b[1;32mas\u001b[0m \u001b[0merr\u001b[0m\u001b[1;33m:\u001b[0m\u001b[1;33m\u001b[0m\u001b[1;33m\u001b[0m\u001b[0m\n",
      "\u001b[1;32mpandas\\_libs\\index.pyx\u001b[0m in \u001b[0;36mpandas._libs.index.IndexEngine.get_loc\u001b[1;34m()\u001b[0m\n",
      "\u001b[1;32mpandas\\_libs\\index.pyx\u001b[0m in \u001b[0;36mpandas._libs.index.IndexEngine.get_loc\u001b[1;34m()\u001b[0m\n",
      "\u001b[1;32mpandas\\_libs\\hashtable_class_helper.pxi\u001b[0m in \u001b[0;36mpandas._libs.hashtable.PyObjectHashTable.get_item\u001b[1;34m()\u001b[0m\n",
      "\u001b[1;32mpandas\\_libs\\hashtable_class_helper.pxi\u001b[0m in \u001b[0;36mpandas._libs.hashtable.PyObjectHashTable.get_item\u001b[1;34m()\u001b[0m\n",
      "\u001b[1;31mKeyError\u001b[0m: 'm'",
      "\nThe above exception was the direct cause of the following exception:\n",
      "\u001b[1;31mKeyError\u001b[0m                                  Traceback (most recent call last)",
      "\u001b[1;32m<ipython-input-11-c433f9f344fa>\u001b[0m in \u001b[0;36m<module>\u001b[1;34m\u001b[0m\n\u001b[1;32m----> 1\u001b[1;33m \u001b[0malong_m\u001b[0m \u001b[1;33m=\u001b[0m \u001b[0msorted\u001b[0m\u001b[1;33m(\u001b[0m\u001b[0mlist\u001b[0m\u001b[1;33m(\u001b[0m\u001b[0mset\u001b[0m\u001b[1;33m(\u001b[0m\u001b[0mresult_df\u001b[0m\u001b[1;33m[\u001b[0m\u001b[1;34m'm'\u001b[0m\u001b[1;33m]\u001b[0m\u001b[1;33m)\u001b[0m\u001b[1;33m)\u001b[0m\u001b[1;33m)\u001b[0m\u001b[1;33m\u001b[0m\u001b[1;33m\u001b[0m\u001b[0m\n\u001b[0m\u001b[0;32m      2\u001b[0m \u001b[0malong_n\u001b[0m \u001b[1;33m=\u001b[0m \u001b[0msorted\u001b[0m\u001b[1;33m(\u001b[0m\u001b[0mlist\u001b[0m\u001b[1;33m(\u001b[0m\u001b[0mset\u001b[0m\u001b[1;33m(\u001b[0m\u001b[0mresult_df\u001b[0m\u001b[1;33m[\u001b[0m\u001b[1;34m'n'\u001b[0m\u001b[1;33m]\u001b[0m\u001b[1;33m)\u001b[0m\u001b[1;33m)\u001b[0m\u001b[1;33m)\u001b[0m\u001b[1;33m\u001b[0m\u001b[1;33m\u001b[0m\u001b[0m\n\u001b[0;32m      3\u001b[0m \u001b[0malong_ap\u001b[0m \u001b[1;33m=\u001b[0m \u001b[0msorted\u001b[0m\u001b[1;33m(\u001b[0m\u001b[0mlist\u001b[0m\u001b[1;33m(\u001b[0m\u001b[0mset\u001b[0m\u001b[1;33m(\u001b[0m\u001b[0mresult_df\u001b[0m\u001b[1;33m[\u001b[0m\u001b[1;34m'ap'\u001b[0m\u001b[1;33m]\u001b[0m\u001b[1;33m)\u001b[0m\u001b[1;33m)\u001b[0m\u001b[1;33m)\u001b[0m\u001b[1;33m\u001b[0m\u001b[1;33m\u001b[0m\u001b[0m\n\u001b[0;32m      4\u001b[0m \u001b[0malong_ttr\u001b[0m \u001b[1;33m=\u001b[0m \u001b[0msorted\u001b[0m\u001b[1;33m(\u001b[0m\u001b[0mlist\u001b[0m\u001b[1;33m(\u001b[0m\u001b[0mset\u001b[0m\u001b[1;33m(\u001b[0m\u001b[0mresult_df\u001b[0m\u001b[1;33m[\u001b[0m\u001b[1;34m'ttr'\u001b[0m\u001b[1;33m]\u001b[0m\u001b[1;33m)\u001b[0m\u001b[1;33m)\u001b[0m\u001b[1;33m)\u001b[0m\u001b[1;33m\u001b[0m\u001b[1;33m\u001b[0m\u001b[0m\n\u001b[0;32m      5\u001b[0m \u001b[0malong_qd\u001b[0m \u001b[1;33m=\u001b[0m \u001b[0msorted\u001b[0m\u001b[1;33m(\u001b[0m\u001b[0mlist\u001b[0m\u001b[1;33m(\u001b[0m\u001b[0mset\u001b[0m\u001b[1;33m(\u001b[0m\u001b[0mresult_df\u001b[0m\u001b[1;33m[\u001b[0m\u001b[1;34m'qd'\u001b[0m\u001b[1;33m]\u001b[0m\u001b[1;33m)\u001b[0m\u001b[1;33m)\u001b[0m\u001b[1;33m)\u001b[0m\u001b[1;33m\u001b[0m\u001b[1;33m\u001b[0m\u001b[0m\n",
      "\u001b[1;32m~\\Anaconda3\\lib\\site-packages\\pandas\\core\\frame.py\u001b[0m in \u001b[0;36m__getitem__\u001b[1;34m(self, key)\u001b[0m\n\u001b[0;32m   3022\u001b[0m             \u001b[1;32mif\u001b[0m \u001b[0mself\u001b[0m\u001b[1;33m.\u001b[0m\u001b[0mcolumns\u001b[0m\u001b[1;33m.\u001b[0m\u001b[0mnlevels\u001b[0m \u001b[1;33m>\u001b[0m \u001b[1;36m1\u001b[0m\u001b[1;33m:\u001b[0m\u001b[1;33m\u001b[0m\u001b[1;33m\u001b[0m\u001b[0m\n\u001b[0;32m   3023\u001b[0m                 \u001b[1;32mreturn\u001b[0m \u001b[0mself\u001b[0m\u001b[1;33m.\u001b[0m\u001b[0m_getitem_multilevel\u001b[0m\u001b[1;33m(\u001b[0m\u001b[0mkey\u001b[0m\u001b[1;33m)\u001b[0m\u001b[1;33m\u001b[0m\u001b[1;33m\u001b[0m\u001b[0m\n\u001b[1;32m-> 3024\u001b[1;33m             \u001b[0mindexer\u001b[0m \u001b[1;33m=\u001b[0m \u001b[0mself\u001b[0m\u001b[1;33m.\u001b[0m\u001b[0mcolumns\u001b[0m\u001b[1;33m.\u001b[0m\u001b[0mget_loc\u001b[0m\u001b[1;33m(\u001b[0m\u001b[0mkey\u001b[0m\u001b[1;33m)\u001b[0m\u001b[1;33m\u001b[0m\u001b[1;33m\u001b[0m\u001b[0m\n\u001b[0m\u001b[0;32m   3025\u001b[0m             \u001b[1;32mif\u001b[0m \u001b[0mis_integer\u001b[0m\u001b[1;33m(\u001b[0m\u001b[0mindexer\u001b[0m\u001b[1;33m)\u001b[0m\u001b[1;33m:\u001b[0m\u001b[1;33m\u001b[0m\u001b[1;33m\u001b[0m\u001b[0m\n\u001b[0;32m   3026\u001b[0m                 \u001b[0mindexer\u001b[0m \u001b[1;33m=\u001b[0m \u001b[1;33m[\u001b[0m\u001b[0mindexer\u001b[0m\u001b[1;33m]\u001b[0m\u001b[1;33m\u001b[0m\u001b[1;33m\u001b[0m\u001b[0m\n",
      "\u001b[1;32m~\\Anaconda3\\lib\\site-packages\\pandas\\core\\indexes\\base.py\u001b[0m in \u001b[0;36mget_loc\u001b[1;34m(self, key, method, tolerance)\u001b[0m\n\u001b[0;32m   3080\u001b[0m                 \u001b[1;32mreturn\u001b[0m \u001b[0mself\u001b[0m\u001b[1;33m.\u001b[0m\u001b[0m_engine\u001b[0m\u001b[1;33m.\u001b[0m\u001b[0mget_loc\u001b[0m\u001b[1;33m(\u001b[0m\u001b[0mcasted_key\u001b[0m\u001b[1;33m)\u001b[0m\u001b[1;33m\u001b[0m\u001b[1;33m\u001b[0m\u001b[0m\n\u001b[0;32m   3081\u001b[0m             \u001b[1;32mexcept\u001b[0m \u001b[0mKeyError\u001b[0m \u001b[1;32mas\u001b[0m \u001b[0merr\u001b[0m\u001b[1;33m:\u001b[0m\u001b[1;33m\u001b[0m\u001b[1;33m\u001b[0m\u001b[0m\n\u001b[1;32m-> 3082\u001b[1;33m                 \u001b[1;32mraise\u001b[0m \u001b[0mKeyError\u001b[0m\u001b[1;33m(\u001b[0m\u001b[0mkey\u001b[0m\u001b[1;33m)\u001b[0m \u001b[1;32mfrom\u001b[0m \u001b[0merr\u001b[0m\u001b[1;33m\u001b[0m\u001b[1;33m\u001b[0m\u001b[0m\n\u001b[0m\u001b[0;32m   3083\u001b[0m \u001b[1;33m\u001b[0m\u001b[0m\n\u001b[0;32m   3084\u001b[0m         \u001b[1;32mif\u001b[0m \u001b[0mtolerance\u001b[0m \u001b[1;32mis\u001b[0m \u001b[1;32mnot\u001b[0m \u001b[1;32mNone\u001b[0m\u001b[1;33m:\u001b[0m\u001b[1;33m\u001b[0m\u001b[1;33m\u001b[0m\u001b[0m\n",
      "\u001b[1;31mKeyError\u001b[0m: 'm'"
     ]
    }
   ],
   "source": [
    "along_m = sorted(list(set(result_df['m'])))\n",
    "along_n = sorted(list(set(result_df['n'])))\n",
    "along_ap = sorted(list(set(result_df['ap'])))\n",
    "along_ttr = sorted(list(set(result_df['ttr'])))\n",
    "along_qd = sorted(list(set(result_df['qd'])))\n",
    "along_m.remove(20000)\n",
    "along_ap.remove(7.8)\n",
    "along_ttr.remove(5)\n",
    "along_qd.remove(1-3e-6)\n",
    "along_n.remove(87)\n",
    "all_along_params = [('m',along_m), ('n',along_n), ('ap',along_ap), ('ttr',along_ttr), ('qd',along_qd)]\n",
    "all_names_params = ['m', 'n', 'ap', 'ttr', 'qd']"
   ]
  },
  {
   "cell_type": "code",
   "execution_count": 12,
   "id": "11e1cd41",
   "metadata": {},
   "outputs": [
    {
     "ename": "NameError",
     "evalue": "name 'all_along_params' is not defined",
     "output_type": "error",
     "traceback": [
      "\u001b[1;31m---------------------------------------------------------------------------\u001b[0m",
      "\u001b[1;31mNameError\u001b[0m                                 Traceback (most recent call last)",
      "\u001b[1;32m<ipython-input-12-7ef0965017da>\u001b[0m in \u001b[0;36m<module>\u001b[1;34m\u001b[0m\n\u001b[1;32m----> 1\u001b[1;33m \u001b[0mall_colormap_params\u001b[0m \u001b[1;33m=\u001b[0m \u001b[0mlist\u001b[0m\u001b[1;33m(\u001b[0m\u001b[0mcombinations\u001b[0m\u001b[1;33m(\u001b[0m\u001b[0mall_along_params\u001b[0m\u001b[1;33m,\u001b[0m \u001b[1;36m2\u001b[0m\u001b[1;33m)\u001b[0m\u001b[1;33m)\u001b[0m\u001b[1;33m\u001b[0m\u001b[1;33m\u001b[0m\u001b[0m\n\u001b[0m\u001b[0;32m      2\u001b[0m \u001b[0mall_colormap_names\u001b[0m \u001b[1;33m=\u001b[0m \u001b[0mlist\u001b[0m\u001b[1;33m(\u001b[0m\u001b[0mcombinations\u001b[0m\u001b[1;33m(\u001b[0m\u001b[0mall_names_params\u001b[0m\u001b[1;33m,\u001b[0m\u001b[1;36m2\u001b[0m\u001b[1;33m)\u001b[0m\u001b[1;33m)\u001b[0m\u001b[1;33m\u001b[0m\u001b[1;33m\u001b[0m\u001b[0m\n",
      "\u001b[1;31mNameError\u001b[0m: name 'all_along_params' is not defined"
     ]
    }
   ],
   "source": [
    "all_colormap_params = list(combinations(all_along_params, 2))\n",
    "all_colormap_names = list(combinations(all_names_params,2))"
   ]
  },
  {
   "cell_type": "code",
   "execution_count": 10,
   "id": "3e396c2e",
   "metadata": {},
   "outputs": [],
   "source": [
    "dict_other_vals = {'m':20000, 'n':87, 'ap': 7.8, 'qd':1-3e-6, 'ttr':5}"
   ]
  },
  {
   "cell_type": "markdown",
   "id": "5b8e5d66",
   "metadata": {},
   "source": [
    "#### 1) Generating all matrices for colormaps"
   ]
  },
  {
   "cell_type": "code",
   "execution_count": null,
   "id": "c378d700",
   "metadata": {},
   "outputs": [],
   "source": [
    "all_matrices_for_cmap = []\n",
    "\n",
    "for comb in all_colormap_params:\n",
    "    params_axes = (comb[0][0], comb[1][0])\n",
    "    print(params_axes)\n",
    "    other_params = set(all_names_params)-set(params_axes)\n",
    "\n",
    "    colormap_params = np.zeros((len(comb[0][1]), len(comb[1][1])))\n",
    "    \n",
    "    for xind in range(len(comb[0][1])):\n",
    "        for yind in range(len(comb[0][1])):\n",
    "            df_axes = result_df.copy()\n",
    "            for p in other_params:\n",
    "                df_axes = df_axes[df_axes[p] == dict_other_vals[p]]\n",
    "            df_axes = df_axes[(df_axes[params_axes[0]] == comb[0][1][xind])&(df_axes[params_axes[1]] == comb[1][1][yind])]\n",
    "            colormap_params[xind, yind] = list(df_axes['Y_treatment'])[0]/list(df_axes['Y_control'])[0]\n",
    "            \n",
    "    all_matrices_for_cmap.append(colormap_params)"
   ]
  },
  {
   "cell_type": "markdown",
   "id": "cb58df89",
   "metadata": {},
   "source": [
    "#### 2) Plotting all 10 cmaps"
   ]
  },
  {
   "cell_type": "markdown",
   "id": "f22f9166",
   "metadata": {},
   "source": [
    "##### Indices for plots"
   ]
  },
  {
   "cell_type": "code",
   "execution_count": 6,
   "id": "ac422094",
   "metadata": {},
   "outputs": [],
   "source": [
    "indices_colormaps = []\n",
    "for i in range(5):\n",
    "    for j in range(2):\n",
    "        indices_colormaps.append((i,j))\n",
    "indices_colormaps = dict(zip(range(10), indices_colormaps))"
   ]
  },
  {
   "cell_type": "markdown",
   "id": "4667c193",
   "metadata": {},
   "source": [
    "##### Labels for axes"
   ]
  },
  {
   "cell_type": "code",
   "execution_count": 7,
   "id": "0ff3c450",
   "metadata": {},
   "outputs": [],
   "source": [
    "def calculate_ticks(ticklabels, truerange, tickrange):\n",
    "    tick_pos = []\n",
    "    for l in ticklabels:\n",
    "        NewValue = (((l - truerange[0]) * (tickrange[1] - tickrange[0])) / (truerange[1] - truerange[0])) + tickrange[0]\n",
    "        tick_pos.append(NewValue)\n",
    "    return(np.array(tick_pos))\n",
    "\n",
    "def calculate_ticks_log(ticklabels, truerange, tickrange):\n",
    "    tick_labels = np.log(ticklabels)\n",
    "    true_range = np.log(truerange)\n",
    "    tick_pos = []\n",
    "    for l in ticklabels:\n",
    "        NewValue = (((l - truerange[0]) * (tickrange[1] - tickrange[0])) / (truerange[1] - truerange[0])) + tickrange[0]\n",
    "        tick_pos.append(NewValue)\n",
    "    return(np.array(tick_pos))"
   ]
  },
  {
   "cell_type": "code",
   "execution_count": 8,
   "id": "a745c3b5",
   "metadata": {},
   "outputs": [],
   "source": [
    "param_ticks = {'m':[1500,5000,10000,15000,20000,25000,29900],\n",
    "               'n':[1,200,400,600,800,1000],\n",
    "               'ap':[7.7,8.0,8.3,8.6,8.8],\n",
    "               'qd':[1-1e-6,1-3e-6,1-5e-6,1-7.5e-6,1-1e-5], \n",
    "               'ttr':[0,3,7,10,14]}\n",
    "param_ranges = {'m':[1500,29900],\n",
    "                'n':[1,1000],\n",
    "                'ap':[7.7,8.8],\n",
    "                'qd':[1e-6,1e-5],\n",
    "                'ttr':[0,14]}"
   ]
  },
  {
   "cell_type": "code",
   "execution_count": null,
   "id": "799f1697",
   "metadata": {},
   "outputs": [],
   "source": [
    "calculate_ticks_log(1-np.array(param_ticks['qd']), param_ranges['qd'], [0,19])"
   ]
  },
  {
   "cell_type": "code",
   "execution_count": null,
   "id": "81f968df",
   "metadata": {},
   "outputs": [],
   "source": [
    "all_xticks, all_yticks = [],[]\n",
    "all_xticklabels, all_yticklabels = [],[]\n",
    "\n",
    "for i in range(10):\n",
    "    \n",
    "    x_param, y_param = all_colormap_names[i]\n",
    "\n",
    "    if y_param == 'qd':\n",
    "        ticks_y = calculate_ticks_log(1-np.array(param_ticks[y_param]), param_ranges[y_param], [0,19])\n",
    "    else:\n",
    "        ticks_y = calculate_ticks(np.array(param_ticks[y_param]), param_ranges[y_param], [0,19])\n",
    "        \n",
    "    if y_param == 'qd':\n",
    "        labels_y = list([\"{:.1e}\".format(1-x) for x in np.array(param_ticks[y_param])])\n",
    "    elif y_param == 'ap':\n",
    "        labels_y = [np.round(x,2) for x in param_ticks[y_param]]\n",
    "    else:\n",
    "        labels_y = [int(np.round(x)) for x in param_ticks[y_param]]\n",
    "        \n",
    "    if x_param == 'qd': \n",
    "        ticks_x = 19-np.array(calculate_ticks_log(1-np.array(param_ticks[x_param]), param_ranges[x_param], [0,19])[::-1])\n",
    "    else:\n",
    "        ticks_x = 19-np.array(calculate_ticks(np.array(param_ticks[x_param]), param_ranges[x_param], [0,19])[::-1])\n",
    "            \n",
    "\n",
    "    if x_param == 'qd':\n",
    "        labels_x = list([\"{:.1e}\".format(1-x) for x in np.array(param_ticks[x_param])])\n",
    "    elif x_param == 'ap':\n",
    "        labels_x = [np.round(x,2) for x in param_ticks[x_param]]\n",
    "    else:\n",
    "        labels_x = [int(np.round(x)) for x in param_ticks[x_param]]\n",
    "    \n",
    "    \n",
    "    all_xticks.append(ticks_x)\n",
    "    all_yticks.append(ticks_y)\n",
    "    all_xticklabels.append(labels_x)\n",
    "    all_yticklabels.append(labels_y)"
   ]
  },
  {
   "cell_type": "code",
   "execution_count": null,
   "id": "cd12c405",
   "metadata": {},
   "outputs": [],
   "source": [
    "params_description = {'m':'Number of lethal positions $m$',\n",
    "                      'n':'Number of gain-of-function positions $n$',\n",
    "                      'ap': 'Clearance rate in clearance phase $a_1$',\n",
    "                      'qd': 'Viral mutation rate under treatment $u_1$',\n",
    "                      'ttr': 'Time of start of treatment'}"
   ]
  },
  {
   "cell_type": "code",
   "execution_count": null,
   "id": "593ee2ea",
   "metadata": {},
   "outputs": [],
   "source": [
    "fig, ax = plt.subplots(5,2,figsize=(8,18))\n",
    "\n",
    "for i in range(10):\n",
    "    im = ax[indices_colormaps[i]].imshow(all_matrices_for_cmap[i][::-1], cmap = 'seismic', vmin = 0., vmax = 2)\n",
    "    if all_colormap_params[i][1][0] in ['qd']:\n",
    "        im = ax[indices_colormaps[i]].imshow(np.flip(all_matrices_for_cmap[i][::-1],1), cmap = 'seismic', vmin = 0., vmax = 2)\n",
    "\n",
    "    ax[indices_colormaps[i]].set_xticks(all_yticks[i])\n",
    "    ax[indices_colormaps[i]].set_xticklabels(all_yticklabels[i])\n",
    "    \n",
    "    ax[indices_colormaps[i]].set_yticks(all_xticks[i])\n",
    "    ax[indices_colormaps[i]].set_yticklabels(all_xticklabels[i][::-1])    \n",
    "    \n",
    "    \n",
    "    ax[indices_colormaps[i]].set_ylabel(params_description[all_colormap_params[i][0][0]])\n",
    "    ax[indices_colormaps[i]].set_xlabel(params_description[all_colormap_params[i][1][0]])\n",
    "    \n",
    "    \n",
    "plt.tight_layout(pad=1.0)\n",
    "plt.savefig('colormaps_all_params_FEB12.jpg', dpi = 600)"
   ]
  },
  {
   "cell_type": "markdown",
   "id": "a8d4b93f",
   "metadata": {},
   "source": [
    "#### Splitting into main and supplementary"
   ]
  },
  {
   "cell_type": "code",
   "execution_count": null,
   "id": "325092ba",
   "metadata": {},
   "outputs": [],
   "source": [
    "indices_colormaps_maintext = []\n",
    "for i in range(3):\n",
    "    for j in range(2):\n",
    "        indices_colormaps_maintext.append((i,j))\n",
    "indices_colormaps_maintext = dict(zip([1,2,3,9], indices_colormaps_maintext))"
   ]
  },
  {
   "cell_type": "markdown",
   "id": "125fa4fb",
   "metadata": {},
   "source": [
    "#### making black line on colormap"
   ]
  },
  {
   "cell_type": "code",
   "execution_count": null,
   "id": "1eb010e8",
   "metadata": {},
   "outputs": [],
   "source": [
    "def sorcerers_stone(T, b, a1, q0, q1, m, n):\n",
    "    notreat = (np.exp(b*T*(1-q0**n)*(q0**m))/(a1-b*q0**m)) - (1/(a1-b*q0**(m+n)))\n",
    "    treat = (np.exp(b*T*(1-q0**n)*(q0**m))/(a1-b*q1**m)) - (1/(a1-b*q1**(m+n)))\n",
    "    return(treat/notreat)\n",
    "\n",
    "def convert_values(val, OldRange, NewRange):\n",
    "    OldR = OldRange[1]-OldRange[0]\n",
    "    NewR = NewRange[1]-NewRange[0]\n",
    "    NewVal = (((val-OldRange[0])*(NewR))/OldR)+NewRange[0]\n",
    "    return(NewVal)"
   ]
  },
  {
   "cell_type": "code",
   "execution_count": null,
   "id": "67f9aaa2",
   "metadata": {},
   "outputs": [],
   "source": [
    "black_line_0 = []\n",
    "\n",
    "for n_val in along_n:\n",
    "    formula = sorcerers_stone(5, 7.61, 7.8, 1-1e-6, 1-3e-6, np.array(np.linspace(1500,29900,1000)), n_val)\n",
    "    index_2 = np.searchsorted(-formula, -1)\n",
    "    formula_m = np.array(np.linspace(1500,29900,1000))[index_2]\n",
    "    black_line_0.append(formula_m)\n",
    "    \n",
    "black_line_1 = []\n",
    "\n",
    "for a1_val in along_ap:\n",
    "    formula = sorcerers_stone(5, 7.6, a1_val, 1-1e-6, 1-3e-6, np.array(np.linspace(1500,29900,1000)), 87)\n",
    "    index_2 = np.searchsorted(-formula, -1)\n",
    "    formula_m = np.array(np.linspace(1500,29900,1000))[index_2]\n",
    "    black_line_1.append(formula_m)\n",
    "    \n",
    "black_line_2 = []\n",
    "\n",
    "for q1_val in along_qd:\n",
    "    formula = sorcerers_stone(5, 7.6, 7.8, 1-1e-6, q1_val, np.array(np.linspace(1500,29900,1000)), 87)\n",
    "    index_2 = np.searchsorted(-formula, -1)\n",
    "    formula_m = np.array(np.linspace(1500,29900,1000))[index_2]\n",
    "    black_line_2.append(formula_m)\n",
    "    \n",
    "    \n",
    "black_line_3 = []\n",
    "\n",
    "for n_val in along_n:\n",
    "    formula = sorcerers_stone(5, 7.6, np.array(np.linspace(7.7,8.8,1000)), 1-1e-6, 1-3e-6, 20000, n_val)\n",
    "    index_2 = np.searchsorted(-formula, -1)\n",
    "    formula_m = np.array(np.linspace(7.7,8.8,1000))[index_2]\n",
    "    black_line_3.append(formula_m)"
   ]
  },
  {
   "cell_type": "code",
   "execution_count": null,
   "id": "3b0beaf4",
   "metadata": {},
   "outputs": [],
   "source": [
    "black_line_0_convert = convert_values(np.array(black_line_0), [1500,29900], [0,19])\n",
    "black_line_1_convert = convert_values(np.array(black_line_1), [1500,29900], [0,19])\n",
    "black_line_2_convert = convert_values(np.array(black_line_2), [1500,29900], [0,19])\n",
    "black_line_3_convert = convert_values(np.array(black_line_3), [7.7,8.8], [0,19])"
   ]
  },
  {
   "cell_type": "code",
   "execution_count": null,
   "id": "63489d93",
   "metadata": {},
   "outputs": [],
   "source": [
    "fig, ax = plt.subplots(2,2,figsize=(8,8))\n",
    "\n",
    "for i in [1,2,3,9]:\n",
    "    im = ax[indices_colormaps_maintext[i]].imshow(all_matrices_for_cmap[i][::-1], cmap = 'seismic', vmin = 0., vmax = 2)\n",
    "    if all_colormap_params[i][1][0] in ['qd']:\n",
    "        im = ax[indices_colormaps_maintext[i]].imshow(np.flip(all_matrices_for_cmap[i][::-1],1), cmap = 'seismic', vmin = 0., vmax = 2)\n",
    "\n",
    "    ax[indices_colormaps_maintext[i]].set_xticks(all_yticks[i])\n",
    "    ax[indices_colormaps_maintext[i]].set_xticklabels(all_yticklabels[i])\n",
    "    \n",
    "    ax[indices_colormaps_maintext[i]].set_yticks(all_xticks[i])\n",
    "    ax[indices_colormaps_maintext[i]].set_yticklabels(all_xticklabels[i][::-1])    \n",
    "    \n",
    "    \n",
    "    ax[indices_colormaps_maintext[i]].set_ylabel(params_description[all_colormap_params[i][0][0]])\n",
    "    ax[indices_colormaps_maintext[i]].set_xlabel(params_description[all_colormap_params[i][1][0]])\n",
    "    \n",
    "    \n",
    "\n",
    "ax[0,0].plot(np.arange(0,20), 19-black_line_1_convert, c = 'k')\n",
    "ax[1,0].plot(np.arange(1,20), 19-black_line_2_convert[:-1][::-1], c = 'k')\n",
    "    \n",
    "plt.tight_layout(pad=1.0)\n",
    "plt.savefig('colormap_newaxlabels_FEB12.jpg', dpi = 400, bbox_inches = 'tight')"
   ]
  },
  {
   "cell_type": "code",
   "execution_count": null,
   "id": "4d096444",
   "metadata": {},
   "outputs": [],
   "source": [
    "indices_colormaps_supplementary = []\n",
    "for i in range(3):\n",
    "    for j in range(2):\n",
    "        indices_colormaps_supplementary.append((i,j))\n",
    "indices_colormaps_supplementary = dict(zip([0,4,5,6,7,8], indices_colormaps_supplementary))"
   ]
  },
  {
   "cell_type": "code",
   "execution_count": null,
   "id": "d754d112",
   "metadata": {},
   "outputs": [],
   "source": [
    "fig, ax = plt.subplots(3,2,figsize=(8,11))\n",
    "\n",
    "for i in [0,4,5,6,7,8]:\n",
    "    im = ax[indices_colormaps_supplementary[i]].imshow(all_matrices_for_cmap[i][::-1], cmap = 'seismic', vmin = 0., vmax = 2)\n",
    "    if all_colormap_params[i][1][0] in ['qd']:\n",
    "        im = ax[indices_colormaps_supplementary[i]].imshow(np.flip(all_matrices_for_cmap[i][::-1],1), cmap = 'seismic', vmin = 0., vmax = 2)\n",
    "\n",
    "    ax[indices_colormaps_supplementary[i]].set_xticks(all_yticks[i])\n",
    "    ax[indices_colormaps_supplementary[i]].set_xticklabels(all_yticklabels[i])\n",
    "    \n",
    "    ax[indices_colormaps_supplementary[i]].set_yticks(all_xticks[i])\n",
    "    ax[indices_colormaps_supplementary[i]].set_yticklabels(all_xticklabels[i][::-1])    \n",
    "    \n",
    "    \n",
    "    ax[indices_colormaps_supplementary[i]].set_ylabel(params_description[all_colormap_params[i][0][0]])\n",
    "    ax[indices_colormaps_supplementary[i]].set_xlabel(params_description[all_colormap_params[i][1][0]])\n",
    "    \n",
    "ax[0,0].plot(np.arange(0,20), 19-black_line_0_convert, c = 'k')\n",
    "\n",
    "plt.tight_layout(pad=1.0)\n",
    "plt.savefig('colormap_supp_newaxlabels_FEB12.jpg', dpi = 400, bbox_inches = 'tight')"
   ]
  }
 ],
 "metadata": {
  "kernelspec": {
   "display_name": "Python 3",
   "language": "python",
   "name": "python3"
  },
  "language_info": {
   "codemirror_mode": {
    "name": "ipython",
    "version": 3
   },
   "file_extension": ".py",
   "mimetype": "text/x-python",
   "name": "python",
   "nbconvert_exporter": "python",
   "pygments_lexer": "ipython3",
   "version": "3.8.8"
  }
 },
 "nbformat": 4,
 "nbformat_minor": 5
}
